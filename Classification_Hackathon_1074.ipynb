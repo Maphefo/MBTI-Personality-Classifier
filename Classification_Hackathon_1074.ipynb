{
  "nbformat": 4,
  "nbformat_minor": 0,
  "metadata": {
    "colab": {
      "name": "Classification-Hackathon-1074.ipynb",
      "version": "0.3.2",
      "provenance": [],
      "include_colab_link": true
    },
    "language_info": {
      "codemirror_mode": {
        "name": "ipython",
        "version": 3
      },
      "file_extension": ".py",
      "mimetype": "text/x-python",
      "name": "python",
      "nbconvert_exporter": "python",
      "pygments_lexer": "ipython3",
      "version": "3.6.8"
    },
    "kernelspec": {
      "display_name": "Python 3",
      "language": "python",
      "name": "python3"
    }
  },
  "cells": [
    {
      "cell_type": "markdown",
      "metadata": {
        "id": "view-in-github",
        "colab_type": "text"
      },
      "source": [
        "<a href=\"https://colab.research.google.com/github/Maphefo/MBTI-Personality-Classifier/blob/master/Classification_Hackathon_1074.ipynb\" target=\"_parent\"><img src=\"https://colab.research.google.com/assets/colab-badge.svg\" alt=\"Open In Colab\"/></a>"
      ]
    },
    {
      "cell_type": "markdown",
      "metadata": {
        "id": "kZX9mFBfiPuX",
        "colab_type": "text"
      },
      "source": [
        "# Classification Hackathon\n",
        "\n",
        "For the specifications for today's Hackathon use the slides linked below. Just note a couple things before you start:\n",
        "* Use your full name and ```_EDSA``` as your Zindi username.\n",
        "* The dataset for this challenge is very large and will take a long time to process. In order to use your time wisely, only use a small subset of the data to figure out how to solve this challenge, and once you're happy with that, train your model with the entire dataset.\n",
        "* This Zindi challenge is tough. This will be taken into account when the supervisors mark your work. Do not worry too much about your placement on the leaderboard. In the Regression Hackathon ```laura_the_explorer``` was in first place but is outside the top 100 in this challenge\n",
        "* To submit your Hackathon to Athena, zip your notebook and your submission csv file, and upload that here. Note that your report card will say you have 100% once you submit your file.\n",
        "* Please attach the *Honour code* (below) cell to your notebook. \n",
        "\n",
        "Further instructions found on these slides: https://docs.google.com/presentation/d/1AbVndI5aOd27Jm0E1qNoYzRtWiZ6-DE3BDE0djGxzIk/edit?usp=sharing\n",
        "\n",
        "** Good luck! **"
      ]
    },
    {
      "cell_type": "markdown",
      "metadata": {
        "id": "1QbCoYSkiPuY",
        "colab_type": "text"
      },
      "source": [
        "## Honour Code\n",
        "I MMAPHEFO, SESENI, confirm - by submitting my - that the solutions in this notebook are a result of my own work and that I abide by the EDSA honour code (https://drive.google.com/file/d/1QDCjGZJ8-FmJE3bZdIQNwnJyQKPhHZBn/view?usp=sharing).\n",
        "\n",
        "Non-compliance with the honour code constitutes a material breach of contract."
      ]
    },
    {
      "cell_type": "code",
      "metadata": {
        "id": "n5pCaspfo1Ta",
        "colab_type": "code",
        "colab": {}
      },
      "source": [
        "# import libraries\n",
        "import numpy as np\n",
        "import pandas as pd\n",
        "import matplotlib.pyplot as plt\n",
        "import seaborn as sns\n",
        "sns.set()\n",
        "%matplotlib inline"
      ],
      "execution_count": 0,
      "outputs": []
    },
    {
      "cell_type": "code",
      "metadata": {
        "id": "EjvwsZvHrYLi",
        "colab_type": "code",
        "colab": {}
      },
      "source": [
        "# Load data\n",
        "train = pd.read_csv('training.csv', )\n",
        "test = pd.read_csv('test.csv')\n",
        "df = pd.concat([train, test], axis=0, sort=True)\n",
        "\n",
        "#store the shape for future reference\n",
        "train_shape = train.shape[0]"
      ],
      "execution_count": 0,
      "outputs": []
    },
    {
      "cell_type": "markdown",
      "metadata": {
        "id": "NEZ0FMT5OuWX",
        "colab_type": "text"
      },
      "source": [
        "# **Data Preprocessing**"
      ]
    },
    {
      "cell_type": "code",
      "metadata": {
        "id": "_cosgFIhFK4g",
        "colab_type": "code",
        "outputId": "40837161-1f36-40e8-c64b-c52705cbc3be",
        "colab": {
          "base_uri": "https://localhost:8080/",
          "height": 34
        }
      },
      "source": [
        "\n",
        "print(train_shape)\n",
        "\n"
      ],
      "execution_count": 399,
      "outputs": [
        {
          "output_type": "stream",
          "text": [
            "95662\n"
          ],
          "name": "stdout"
        }
      ]
    },
    {
      "cell_type": "code",
      "metadata": {
        "id": "buUUhpGKuEQf",
        "colab_type": "code",
        "outputId": "0a3318b8-7aea-454e-abaf-53eeee012109",
        "colab": {
          "base_uri": "https://localhost:8080/",
          "height": 34
        }
      },
      "source": [
        "df.shape"
      ],
      "execution_count": 400,
      "outputs": [
        {
          "output_type": "execute_result",
          "data": {
            "text/plain": [
              "(140681, 16)"
            ]
          },
          "metadata": {
            "tags": []
          },
          "execution_count": 400
        }
      ]
    },
    {
      "cell_type": "code",
      "metadata": {
        "id": "2dCS-h8luJZP",
        "colab_type": "code",
        "outputId": "bfebe62d-6057-47f1-f0e0-05306538f0e7",
        "colab": {
          "base_uri": "https://localhost:8080/",
          "height": 34
        }
      },
      "source": [
        "train.shape"
      ],
      "execution_count": 401,
      "outputs": [
        {
          "output_type": "execute_result",
          "data": {
            "text/plain": [
              "(95662, 16)"
            ]
          },
          "metadata": {
            "tags": []
          },
          "execution_count": 401
        }
      ]
    },
    {
      "cell_type": "code",
      "metadata": {
        "id": "L5gwpklduLuv",
        "colab_type": "code",
        "outputId": "eb74bb2b-546a-4f4d-a47e-0a66a6d6ef36",
        "colab": {
          "base_uri": "https://localhost:8080/",
          "height": 34
        }
      },
      "source": [
        "test.shape"
      ],
      "execution_count": 402,
      "outputs": [
        {
          "output_type": "execute_result",
          "data": {
            "text/plain": [
              "(45019, 15)"
            ]
          },
          "metadata": {
            "tags": []
          },
          "execution_count": 402
        }
      ]
    },
    {
      "cell_type": "code",
      "metadata": {
        "id": "7vni4FQuuQ5u",
        "colab_type": "code",
        "outputId": "d219d463-0618-4e05-b287-75d79040256d",
        "colab": {
          "base_uri": "https://localhost:8080/",
          "height": 224
        }
      },
      "source": [
        "train.head()"
      ],
      "execution_count": 403,
      "outputs": [
        {
          "output_type": "execute_result",
          "data": {
            "text/html": [
              "<div>\n",
              "<style scoped>\n",
              "    .dataframe tbody tr th:only-of-type {\n",
              "        vertical-align: middle;\n",
              "    }\n",
              "\n",
              "    .dataframe tbody tr th {\n",
              "        vertical-align: top;\n",
              "    }\n",
              "\n",
              "    .dataframe thead th {\n",
              "        text-align: right;\n",
              "    }\n",
              "</style>\n",
              "<table border=\"1\" class=\"dataframe\">\n",
              "  <thead>\n",
              "    <tr style=\"text-align: right;\">\n",
              "      <th></th>\n",
              "      <th>TransactionId</th>\n",
              "      <th>BatchId</th>\n",
              "      <th>AccountId</th>\n",
              "      <th>SubscriptionId</th>\n",
              "      <th>CustomerId</th>\n",
              "      <th>CurrencyCode</th>\n",
              "      <th>CountryCode</th>\n",
              "      <th>ProviderId</th>\n",
              "      <th>ProductId</th>\n",
              "      <th>ProductCategory</th>\n",
              "      <th>ChannelId</th>\n",
              "      <th>Amount</th>\n",
              "      <th>Value</th>\n",
              "      <th>TransactionStartTime</th>\n",
              "      <th>PricingStrategy</th>\n",
              "      <th>FraudResult</th>\n",
              "    </tr>\n",
              "  </thead>\n",
              "  <tbody>\n",
              "    <tr>\n",
              "      <th>0</th>\n",
              "      <td>TransactionId_76871</td>\n",
              "      <td>BatchId_36123</td>\n",
              "      <td>AccountId_3957</td>\n",
              "      <td>SubscriptionId_887</td>\n",
              "      <td>CustomerId_4406</td>\n",
              "      <td>UGX</td>\n",
              "      <td>256</td>\n",
              "      <td>ProviderId_6</td>\n",
              "      <td>ProductId_10</td>\n",
              "      <td>airtime</td>\n",
              "      <td>ChannelId_3</td>\n",
              "      <td>1000.0</td>\n",
              "      <td>1000</td>\n",
              "      <td>2018-11-15T02:18:49Z</td>\n",
              "      <td>2</td>\n",
              "      <td>0</td>\n",
              "    </tr>\n",
              "    <tr>\n",
              "      <th>1</th>\n",
              "      <td>TransactionId_73770</td>\n",
              "      <td>BatchId_15642</td>\n",
              "      <td>AccountId_4841</td>\n",
              "      <td>SubscriptionId_3829</td>\n",
              "      <td>CustomerId_4406</td>\n",
              "      <td>UGX</td>\n",
              "      <td>256</td>\n",
              "      <td>ProviderId_4</td>\n",
              "      <td>ProductId_6</td>\n",
              "      <td>financial_services</td>\n",
              "      <td>ChannelId_2</td>\n",
              "      <td>-20.0</td>\n",
              "      <td>20</td>\n",
              "      <td>2018-11-15T02:19:08Z</td>\n",
              "      <td>2</td>\n",
              "      <td>0</td>\n",
              "    </tr>\n",
              "    <tr>\n",
              "      <th>2</th>\n",
              "      <td>TransactionId_26203</td>\n",
              "      <td>BatchId_53941</td>\n",
              "      <td>AccountId_4229</td>\n",
              "      <td>SubscriptionId_222</td>\n",
              "      <td>CustomerId_4683</td>\n",
              "      <td>UGX</td>\n",
              "      <td>256</td>\n",
              "      <td>ProviderId_6</td>\n",
              "      <td>ProductId_1</td>\n",
              "      <td>airtime</td>\n",
              "      <td>ChannelId_3</td>\n",
              "      <td>500.0</td>\n",
              "      <td>500</td>\n",
              "      <td>2018-11-15T02:44:21Z</td>\n",
              "      <td>2</td>\n",
              "      <td>0</td>\n",
              "    </tr>\n",
              "    <tr>\n",
              "      <th>3</th>\n",
              "      <td>TransactionId_380</td>\n",
              "      <td>BatchId_102363</td>\n",
              "      <td>AccountId_648</td>\n",
              "      <td>SubscriptionId_2185</td>\n",
              "      <td>CustomerId_988</td>\n",
              "      <td>UGX</td>\n",
              "      <td>256</td>\n",
              "      <td>ProviderId_1</td>\n",
              "      <td>ProductId_21</td>\n",
              "      <td>utility_bill</td>\n",
              "      <td>ChannelId_3</td>\n",
              "      <td>20000.0</td>\n",
              "      <td>21800</td>\n",
              "      <td>2018-11-15T03:32:55Z</td>\n",
              "      <td>2</td>\n",
              "      <td>0</td>\n",
              "    </tr>\n",
              "    <tr>\n",
              "      <th>4</th>\n",
              "      <td>TransactionId_28195</td>\n",
              "      <td>BatchId_38780</td>\n",
              "      <td>AccountId_4841</td>\n",
              "      <td>SubscriptionId_3829</td>\n",
              "      <td>CustomerId_988</td>\n",
              "      <td>UGX</td>\n",
              "      <td>256</td>\n",
              "      <td>ProviderId_4</td>\n",
              "      <td>ProductId_6</td>\n",
              "      <td>financial_services</td>\n",
              "      <td>ChannelId_2</td>\n",
              "      <td>-644.0</td>\n",
              "      <td>644</td>\n",
              "      <td>2018-11-15T03:34:21Z</td>\n",
              "      <td>2</td>\n",
              "      <td>0</td>\n",
              "    </tr>\n",
              "  </tbody>\n",
              "</table>\n",
              "</div>"
            ],
            "text/plain": [
              "         TransactionId         BatchId  ... PricingStrategy FraudResult\n",
              "0  TransactionId_76871   BatchId_36123  ...               2           0\n",
              "1  TransactionId_73770   BatchId_15642  ...               2           0\n",
              "2  TransactionId_26203   BatchId_53941  ...               2           0\n",
              "3    TransactionId_380  BatchId_102363  ...               2           0\n",
              "4  TransactionId_28195   BatchId_38780  ...               2           0\n",
              "\n",
              "[5 rows x 16 columns]"
            ]
          },
          "metadata": {
            "tags": []
          },
          "execution_count": 403
        }
      ]
    },
    {
      "cell_type": "code",
      "metadata": {
        "id": "sxVVmTeLrhEZ",
        "colab_type": "code",
        "outputId": "6c6a7a79-cae8-4961-e63b-e5c3407087f6",
        "colab": {
          "base_uri": "https://localhost:8080/",
          "height": 224
        }
      },
      "source": [
        "df.head()"
      ],
      "execution_count": 404,
      "outputs": [
        {
          "output_type": "execute_result",
          "data": {
            "text/html": [
              "<div>\n",
              "<style scoped>\n",
              "    .dataframe tbody tr th:only-of-type {\n",
              "        vertical-align: middle;\n",
              "    }\n",
              "\n",
              "    .dataframe tbody tr th {\n",
              "        vertical-align: top;\n",
              "    }\n",
              "\n",
              "    .dataframe thead th {\n",
              "        text-align: right;\n",
              "    }\n",
              "</style>\n",
              "<table border=\"1\" class=\"dataframe\">\n",
              "  <thead>\n",
              "    <tr style=\"text-align: right;\">\n",
              "      <th></th>\n",
              "      <th>AccountId</th>\n",
              "      <th>Amount</th>\n",
              "      <th>BatchId</th>\n",
              "      <th>ChannelId</th>\n",
              "      <th>CountryCode</th>\n",
              "      <th>CurrencyCode</th>\n",
              "      <th>CustomerId</th>\n",
              "      <th>FraudResult</th>\n",
              "      <th>PricingStrategy</th>\n",
              "      <th>ProductCategory</th>\n",
              "      <th>ProductId</th>\n",
              "      <th>ProviderId</th>\n",
              "      <th>SubscriptionId</th>\n",
              "      <th>TransactionId</th>\n",
              "      <th>TransactionStartTime</th>\n",
              "      <th>Value</th>\n",
              "    </tr>\n",
              "  </thead>\n",
              "  <tbody>\n",
              "    <tr>\n",
              "      <th>0</th>\n",
              "      <td>AccountId_3957</td>\n",
              "      <td>1000.0</td>\n",
              "      <td>BatchId_36123</td>\n",
              "      <td>ChannelId_3</td>\n",
              "      <td>256</td>\n",
              "      <td>UGX</td>\n",
              "      <td>CustomerId_4406</td>\n",
              "      <td>0.0</td>\n",
              "      <td>2</td>\n",
              "      <td>airtime</td>\n",
              "      <td>ProductId_10</td>\n",
              "      <td>ProviderId_6</td>\n",
              "      <td>SubscriptionId_887</td>\n",
              "      <td>TransactionId_76871</td>\n",
              "      <td>2018-11-15T02:18:49Z</td>\n",
              "      <td>1000</td>\n",
              "    </tr>\n",
              "    <tr>\n",
              "      <th>1</th>\n",
              "      <td>AccountId_4841</td>\n",
              "      <td>-20.0</td>\n",
              "      <td>BatchId_15642</td>\n",
              "      <td>ChannelId_2</td>\n",
              "      <td>256</td>\n",
              "      <td>UGX</td>\n",
              "      <td>CustomerId_4406</td>\n",
              "      <td>0.0</td>\n",
              "      <td>2</td>\n",
              "      <td>financial_services</td>\n",
              "      <td>ProductId_6</td>\n",
              "      <td>ProviderId_4</td>\n",
              "      <td>SubscriptionId_3829</td>\n",
              "      <td>TransactionId_73770</td>\n",
              "      <td>2018-11-15T02:19:08Z</td>\n",
              "      <td>20</td>\n",
              "    </tr>\n",
              "    <tr>\n",
              "      <th>2</th>\n",
              "      <td>AccountId_4229</td>\n",
              "      <td>500.0</td>\n",
              "      <td>BatchId_53941</td>\n",
              "      <td>ChannelId_3</td>\n",
              "      <td>256</td>\n",
              "      <td>UGX</td>\n",
              "      <td>CustomerId_4683</td>\n",
              "      <td>0.0</td>\n",
              "      <td>2</td>\n",
              "      <td>airtime</td>\n",
              "      <td>ProductId_1</td>\n",
              "      <td>ProviderId_6</td>\n",
              "      <td>SubscriptionId_222</td>\n",
              "      <td>TransactionId_26203</td>\n",
              "      <td>2018-11-15T02:44:21Z</td>\n",
              "      <td>500</td>\n",
              "    </tr>\n",
              "    <tr>\n",
              "      <th>3</th>\n",
              "      <td>AccountId_648</td>\n",
              "      <td>20000.0</td>\n",
              "      <td>BatchId_102363</td>\n",
              "      <td>ChannelId_3</td>\n",
              "      <td>256</td>\n",
              "      <td>UGX</td>\n",
              "      <td>CustomerId_988</td>\n",
              "      <td>0.0</td>\n",
              "      <td>2</td>\n",
              "      <td>utility_bill</td>\n",
              "      <td>ProductId_21</td>\n",
              "      <td>ProviderId_1</td>\n",
              "      <td>SubscriptionId_2185</td>\n",
              "      <td>TransactionId_380</td>\n",
              "      <td>2018-11-15T03:32:55Z</td>\n",
              "      <td>21800</td>\n",
              "    </tr>\n",
              "    <tr>\n",
              "      <th>4</th>\n",
              "      <td>AccountId_4841</td>\n",
              "      <td>-644.0</td>\n",
              "      <td>BatchId_38780</td>\n",
              "      <td>ChannelId_2</td>\n",
              "      <td>256</td>\n",
              "      <td>UGX</td>\n",
              "      <td>CustomerId_988</td>\n",
              "      <td>0.0</td>\n",
              "      <td>2</td>\n",
              "      <td>financial_services</td>\n",
              "      <td>ProductId_6</td>\n",
              "      <td>ProviderId_4</td>\n",
              "      <td>SubscriptionId_3829</td>\n",
              "      <td>TransactionId_28195</td>\n",
              "      <td>2018-11-15T03:34:21Z</td>\n",
              "      <td>644</td>\n",
              "    </tr>\n",
              "  </tbody>\n",
              "</table>\n",
              "</div>"
            ],
            "text/plain": [
              "        AccountId   Amount  ...  TransactionStartTime  Value\n",
              "0  AccountId_3957   1000.0  ...  2018-11-15T02:18:49Z   1000\n",
              "1  AccountId_4841    -20.0  ...  2018-11-15T02:19:08Z     20\n",
              "2  AccountId_4229    500.0  ...  2018-11-15T02:44:21Z    500\n",
              "3   AccountId_648  20000.0  ...  2018-11-15T03:32:55Z  21800\n",
              "4  AccountId_4841   -644.0  ...  2018-11-15T03:34:21Z    644\n",
              "\n",
              "[5 rows x 16 columns]"
            ]
          },
          "metadata": {
            "tags": []
          },
          "execution_count": 404
        }
      ]
    },
    {
      "cell_type": "code",
      "metadata": {
        "id": "O1CZx3gVrjL5",
        "colab_type": "code",
        "outputId": "c7e90ee2-945b-4aeb-de1a-61b5e351d796",
        "colab": {
          "base_uri": "https://localhost:8080/",
          "height": 374
        }
      },
      "source": [
        "df.info()"
      ],
      "execution_count": 405,
      "outputs": [
        {
          "output_type": "stream",
          "text": [
            "<class 'pandas.core.frame.DataFrame'>\n",
            "Int64Index: 140681 entries, 0 to 45018\n",
            "Data columns (total 16 columns):\n",
            "AccountId               140681 non-null object\n",
            "Amount                  140681 non-null float64\n",
            "BatchId                 140681 non-null object\n",
            "ChannelId               140681 non-null object\n",
            "CountryCode             140681 non-null int64\n",
            "CurrencyCode            140681 non-null object\n",
            "CustomerId              140681 non-null object\n",
            "FraudResult             95662 non-null float64\n",
            "PricingStrategy         140681 non-null int64\n",
            "ProductCategory         140681 non-null object\n",
            "ProductId               140681 non-null object\n",
            "ProviderId              140681 non-null object\n",
            "SubscriptionId          140681 non-null object\n",
            "TransactionId           140681 non-null object\n",
            "TransactionStartTime    140681 non-null object\n",
            "Value                   140681 non-null int64\n",
            "dtypes: float64(2), int64(3), object(11)\n",
            "memory usage: 18.2+ MB\n"
          ],
          "name": "stdout"
        }
      ]
    },
    {
      "cell_type": "code",
      "metadata": {
        "id": "37qw28uUtLVe",
        "colab_type": "code",
        "outputId": "13d177bc-9fdf-43e6-ea3b-3d8745b9ee88",
        "colab": {
          "base_uri": "https://localhost:8080/",
          "height": 545
        }
      },
      "source": [
        "# referenced from preprocessing : titanic-eda-wrangling-imputation \n",
        "def display_all(df):\n",
        "    with pd.option_context(\"display.max_rows\", 1000, \"display.max_columns\", 1000): \n",
        "        display(df)\n",
        "\n",
        "        \n",
        "display_all(df.describe(include='all').T)"
      ],
      "execution_count": 406,
      "outputs": [
        {
          "output_type": "display_data",
          "data": {
            "text/html": [
              "<div>\n",
              "<style scoped>\n",
              "    .dataframe tbody tr th:only-of-type {\n",
              "        vertical-align: middle;\n",
              "    }\n",
              "\n",
              "    .dataframe tbody tr th {\n",
              "        vertical-align: top;\n",
              "    }\n",
              "\n",
              "    .dataframe thead th {\n",
              "        text-align: right;\n",
              "    }\n",
              "</style>\n",
              "<table border=\"1\" class=\"dataframe\">\n",
              "  <thead>\n",
              "    <tr style=\"text-align: right;\">\n",
              "      <th></th>\n",
              "      <th>count</th>\n",
              "      <th>unique</th>\n",
              "      <th>top</th>\n",
              "      <th>freq</th>\n",
              "      <th>mean</th>\n",
              "      <th>std</th>\n",
              "      <th>min</th>\n",
              "      <th>25%</th>\n",
              "      <th>50%</th>\n",
              "      <th>75%</th>\n",
              "      <th>max</th>\n",
              "    </tr>\n",
              "  </thead>\n",
              "  <tbody>\n",
              "    <tr>\n",
              "      <th>AccountId</th>\n",
              "      <td>140681</td>\n",
              "      <td>4841</td>\n",
              "      <td>AccountId_4841</td>\n",
              "      <td>42334</td>\n",
              "      <td>NaN</td>\n",
              "      <td>NaN</td>\n",
              "      <td>NaN</td>\n",
              "      <td>NaN</td>\n",
              "      <td>NaN</td>\n",
              "      <td>NaN</td>\n",
              "      <td>NaN</td>\n",
              "    </tr>\n",
              "    <tr>\n",
              "      <th>Amount</th>\n",
              "      <td>140681</td>\n",
              "      <td>NaN</td>\n",
              "      <td>NaN</td>\n",
              "      <td>NaN</td>\n",
              "      <td>6050.58</td>\n",
              "      <td>115313</td>\n",
              "      <td>-2.5e+06</td>\n",
              "      <td>-50</td>\n",
              "      <td>1000</td>\n",
              "      <td>3000</td>\n",
              "      <td>9.88e+06</td>\n",
              "    </tr>\n",
              "    <tr>\n",
              "      <th>BatchId</th>\n",
              "      <td>140681</td>\n",
              "      <td>139493</td>\n",
              "      <td>BatchId_67019</td>\n",
              "      <td>28</td>\n",
              "      <td>NaN</td>\n",
              "      <td>NaN</td>\n",
              "      <td>NaN</td>\n",
              "      <td>NaN</td>\n",
              "      <td>NaN</td>\n",
              "      <td>NaN</td>\n",
              "      <td>NaN</td>\n",
              "    </tr>\n",
              "    <tr>\n",
              "      <th>ChannelId</th>\n",
              "      <td>140681</td>\n",
              "      <td>5</td>\n",
              "      <td>ChannelId_3</td>\n",
              "      <td>95025</td>\n",
              "      <td>NaN</td>\n",
              "      <td>NaN</td>\n",
              "      <td>NaN</td>\n",
              "      <td>NaN</td>\n",
              "      <td>NaN</td>\n",
              "      <td>NaN</td>\n",
              "      <td>NaN</td>\n",
              "    </tr>\n",
              "    <tr>\n",
              "      <th>CountryCode</th>\n",
              "      <td>140681</td>\n",
              "      <td>NaN</td>\n",
              "      <td>NaN</td>\n",
              "      <td>NaN</td>\n",
              "      <td>256</td>\n",
              "      <td>0</td>\n",
              "      <td>256</td>\n",
              "      <td>256</td>\n",
              "      <td>256</td>\n",
              "      <td>256</td>\n",
              "      <td>256</td>\n",
              "    </tr>\n",
              "    <tr>\n",
              "      <th>CurrencyCode</th>\n",
              "      <td>140681</td>\n",
              "      <td>1</td>\n",
              "      <td>UGX</td>\n",
              "      <td>140681</td>\n",
              "      <td>NaN</td>\n",
              "      <td>NaN</td>\n",
              "      <td>NaN</td>\n",
              "      <td>NaN</td>\n",
              "      <td>NaN</td>\n",
              "      <td>NaN</td>\n",
              "      <td>NaN</td>\n",
              "    </tr>\n",
              "    <tr>\n",
              "      <th>CustomerId</th>\n",
              "      <td>140681</td>\n",
              "      <td>7479</td>\n",
              "      <td>CustomerId_7343</td>\n",
              "      <td>4091</td>\n",
              "      <td>NaN</td>\n",
              "      <td>NaN</td>\n",
              "      <td>NaN</td>\n",
              "      <td>NaN</td>\n",
              "      <td>NaN</td>\n",
              "      <td>NaN</td>\n",
              "      <td>NaN</td>\n",
              "    </tr>\n",
              "    <tr>\n",
              "      <th>FraudResult</th>\n",
              "      <td>95662</td>\n",
              "      <td>NaN</td>\n",
              "      <td>NaN</td>\n",
              "      <td>NaN</td>\n",
              "      <td>0.00201752</td>\n",
              "      <td>0.0448717</td>\n",
              "      <td>0</td>\n",
              "      <td>0</td>\n",
              "      <td>0</td>\n",
              "      <td>0</td>\n",
              "      <td>1</td>\n",
              "    </tr>\n",
              "    <tr>\n",
              "      <th>PricingStrategy</th>\n",
              "      <td>140681</td>\n",
              "      <td>NaN</td>\n",
              "      <td>NaN</td>\n",
              "      <td>NaN</td>\n",
              "      <td>2.25747</td>\n",
              "      <td>0.735089</td>\n",
              "      <td>0</td>\n",
              "      <td>2</td>\n",
              "      <td>2</td>\n",
              "      <td>2</td>\n",
              "      <td>4</td>\n",
              "    </tr>\n",
              "    <tr>\n",
              "      <th>ProductCategory</th>\n",
              "      <td>140681</td>\n",
              "      <td>10</td>\n",
              "      <td>financial_services</td>\n",
              "      <td>67105</td>\n",
              "      <td>NaN</td>\n",
              "      <td>NaN</td>\n",
              "      <td>NaN</td>\n",
              "      <td>NaN</td>\n",
              "      <td>NaN</td>\n",
              "      <td>NaN</td>\n",
              "      <td>NaN</td>\n",
              "    </tr>\n",
              "    <tr>\n",
              "      <th>ProductId</th>\n",
              "      <td>140681</td>\n",
              "      <td>27</td>\n",
              "      <td>ProductId_6</td>\n",
              "      <td>47821</td>\n",
              "      <td>NaN</td>\n",
              "      <td>NaN</td>\n",
              "      <td>NaN</td>\n",
              "      <td>NaN</td>\n",
              "      <td>NaN</td>\n",
              "      <td>NaN</td>\n",
              "      <td>NaN</td>\n",
              "    </tr>\n",
              "    <tr>\n",
              "      <th>ProviderId</th>\n",
              "      <td>140681</td>\n",
              "      <td>6</td>\n",
              "      <td>ProviderId_4</td>\n",
              "      <td>56445</td>\n",
              "      <td>NaN</td>\n",
              "      <td>NaN</td>\n",
              "      <td>NaN</td>\n",
              "      <td>NaN</td>\n",
              "      <td>NaN</td>\n",
              "      <td>NaN</td>\n",
              "      <td>NaN</td>\n",
              "    </tr>\n",
              "    <tr>\n",
              "      <th>SubscriptionId</th>\n",
              "      <td>140681</td>\n",
              "      <td>4836</td>\n",
              "      <td>SubscriptionId_3829</td>\n",
              "      <td>47833</td>\n",
              "      <td>NaN</td>\n",
              "      <td>NaN</td>\n",
              "      <td>NaN</td>\n",
              "      <td>NaN</td>\n",
              "      <td>NaN</td>\n",
              "      <td>NaN</td>\n",
              "      <td>NaN</td>\n",
              "    </tr>\n",
              "    <tr>\n",
              "      <th>TransactionId</th>\n",
              "      <td>140681</td>\n",
              "      <td>140681</td>\n",
              "      <td>TransactionId_100102</td>\n",
              "      <td>1</td>\n",
              "      <td>NaN</td>\n",
              "      <td>NaN</td>\n",
              "      <td>NaN</td>\n",
              "      <td>NaN</td>\n",
              "      <td>NaN</td>\n",
              "      <td>NaN</td>\n",
              "      <td>NaN</td>\n",
              "    </tr>\n",
              "    <tr>\n",
              "      <th>TransactionStartTime</th>\n",
              "      <td>140681</td>\n",
              "      <td>138574</td>\n",
              "      <td>2018-12-24T16:30:13Z</td>\n",
              "      <td>17</td>\n",
              "      <td>NaN</td>\n",
              "      <td>NaN</td>\n",
              "      <td>NaN</td>\n",
              "      <td>NaN</td>\n",
              "      <td>NaN</td>\n",
              "      <td>NaN</td>\n",
              "      <td>NaN</td>\n",
              "    </tr>\n",
              "    <tr>\n",
              "      <th>Value</th>\n",
              "      <td>140681</td>\n",
              "      <td>NaN</td>\n",
              "      <td>NaN</td>\n",
              "      <td>NaN</td>\n",
              "      <td>10028.5</td>\n",
              "      <td>115063</td>\n",
              "      <td>2</td>\n",
              "      <td>392</td>\n",
              "      <td>1000</td>\n",
              "      <td>5000</td>\n",
              "      <td>9.88e+06</td>\n",
              "    </tr>\n",
              "  </tbody>\n",
              "</table>\n",
              "</div>"
            ],
            "text/plain": [
              "                       count  unique                   top    freq  \\\n",
              "AccountId             140681    4841        AccountId_4841   42334   \n",
              "Amount                140681     NaN                   NaN     NaN   \n",
              "BatchId               140681  139493         BatchId_67019      28   \n",
              "ChannelId             140681       5           ChannelId_3   95025   \n",
              "CountryCode           140681     NaN                   NaN     NaN   \n",
              "CurrencyCode          140681       1                   UGX  140681   \n",
              "CustomerId            140681    7479       CustomerId_7343    4091   \n",
              "FraudResult            95662     NaN                   NaN     NaN   \n",
              "PricingStrategy       140681     NaN                   NaN     NaN   \n",
              "ProductCategory       140681      10    financial_services   67105   \n",
              "ProductId             140681      27           ProductId_6   47821   \n",
              "ProviderId            140681       6          ProviderId_4   56445   \n",
              "SubscriptionId        140681    4836   SubscriptionId_3829   47833   \n",
              "TransactionId         140681  140681  TransactionId_100102       1   \n",
              "TransactionStartTime  140681  138574  2018-12-24T16:30:13Z      17   \n",
              "Value                 140681     NaN                   NaN     NaN   \n",
              "\n",
              "                            mean        std      min  25%   50%   75%  \\\n",
              "AccountId                    NaN        NaN      NaN  NaN   NaN   NaN   \n",
              "Amount                   6050.58     115313 -2.5e+06  -50  1000  3000   \n",
              "BatchId                      NaN        NaN      NaN  NaN   NaN   NaN   \n",
              "ChannelId                    NaN        NaN      NaN  NaN   NaN   NaN   \n",
              "CountryCode                  256          0      256  256   256   256   \n",
              "CurrencyCode                 NaN        NaN      NaN  NaN   NaN   NaN   \n",
              "CustomerId                   NaN        NaN      NaN  NaN   NaN   NaN   \n",
              "FraudResult           0.00201752  0.0448717        0    0     0     0   \n",
              "PricingStrategy          2.25747   0.735089        0    2     2     2   \n",
              "ProductCategory              NaN        NaN      NaN  NaN   NaN   NaN   \n",
              "ProductId                    NaN        NaN      NaN  NaN   NaN   NaN   \n",
              "ProviderId                   NaN        NaN      NaN  NaN   NaN   NaN   \n",
              "SubscriptionId               NaN        NaN      NaN  NaN   NaN   NaN   \n",
              "TransactionId                NaN        NaN      NaN  NaN   NaN   NaN   \n",
              "TransactionStartTime         NaN        NaN      NaN  NaN   NaN   NaN   \n",
              "Value                    10028.5     115063        2  392  1000  5000   \n",
              "\n",
              "                           max  \n",
              "AccountId                  NaN  \n",
              "Amount                9.88e+06  \n",
              "BatchId                    NaN  \n",
              "ChannelId                  NaN  \n",
              "CountryCode                256  \n",
              "CurrencyCode               NaN  \n",
              "CustomerId                 NaN  \n",
              "FraudResult                  1  \n",
              "PricingStrategy              4  \n",
              "ProductCategory            NaN  \n",
              "ProductId                  NaN  \n",
              "ProviderId                 NaN  \n",
              "SubscriptionId             NaN  \n",
              "TransactionId              NaN  \n",
              "TransactionStartTime       NaN  \n",
              "Value                 9.88e+06  "
            ]
          },
          "metadata": {
            "tags": []
          }
        }
      ]
    },
    {
      "cell_type": "code",
      "metadata": {
        "id": "e_hEy5V5l2nA",
        "colab_type": "code",
        "colab": {
          "base_uri": "https://localhost:8080/",
          "height": 224
        },
        "outputId": "9d70484e-b521-4b4c-db9e-8a620bd7a558"
      },
      "source": [
        "#currency has only 1 unique value\n",
        "df = df.drop(columns='CurrencyCode')\n",
        "df.head() "
      ],
      "execution_count": 407,
      "outputs": [
        {
          "output_type": "execute_result",
          "data": {
            "text/html": [
              "<div>\n",
              "<style scoped>\n",
              "    .dataframe tbody tr th:only-of-type {\n",
              "        vertical-align: middle;\n",
              "    }\n",
              "\n",
              "    .dataframe tbody tr th {\n",
              "        vertical-align: top;\n",
              "    }\n",
              "\n",
              "    .dataframe thead th {\n",
              "        text-align: right;\n",
              "    }\n",
              "</style>\n",
              "<table border=\"1\" class=\"dataframe\">\n",
              "  <thead>\n",
              "    <tr style=\"text-align: right;\">\n",
              "      <th></th>\n",
              "      <th>AccountId</th>\n",
              "      <th>Amount</th>\n",
              "      <th>BatchId</th>\n",
              "      <th>ChannelId</th>\n",
              "      <th>CountryCode</th>\n",
              "      <th>CustomerId</th>\n",
              "      <th>FraudResult</th>\n",
              "      <th>PricingStrategy</th>\n",
              "      <th>ProductCategory</th>\n",
              "      <th>ProductId</th>\n",
              "      <th>ProviderId</th>\n",
              "      <th>SubscriptionId</th>\n",
              "      <th>TransactionId</th>\n",
              "      <th>TransactionStartTime</th>\n",
              "      <th>Value</th>\n",
              "    </tr>\n",
              "  </thead>\n",
              "  <tbody>\n",
              "    <tr>\n",
              "      <th>0</th>\n",
              "      <td>AccountId_3957</td>\n",
              "      <td>1000.0</td>\n",
              "      <td>BatchId_36123</td>\n",
              "      <td>ChannelId_3</td>\n",
              "      <td>256</td>\n",
              "      <td>CustomerId_4406</td>\n",
              "      <td>0.0</td>\n",
              "      <td>2</td>\n",
              "      <td>airtime</td>\n",
              "      <td>ProductId_10</td>\n",
              "      <td>ProviderId_6</td>\n",
              "      <td>SubscriptionId_887</td>\n",
              "      <td>TransactionId_76871</td>\n",
              "      <td>2018-11-15T02:18:49Z</td>\n",
              "      <td>1000</td>\n",
              "    </tr>\n",
              "    <tr>\n",
              "      <th>1</th>\n",
              "      <td>AccountId_4841</td>\n",
              "      <td>-20.0</td>\n",
              "      <td>BatchId_15642</td>\n",
              "      <td>ChannelId_2</td>\n",
              "      <td>256</td>\n",
              "      <td>CustomerId_4406</td>\n",
              "      <td>0.0</td>\n",
              "      <td>2</td>\n",
              "      <td>financial_services</td>\n",
              "      <td>ProductId_6</td>\n",
              "      <td>ProviderId_4</td>\n",
              "      <td>SubscriptionId_3829</td>\n",
              "      <td>TransactionId_73770</td>\n",
              "      <td>2018-11-15T02:19:08Z</td>\n",
              "      <td>20</td>\n",
              "    </tr>\n",
              "    <tr>\n",
              "      <th>2</th>\n",
              "      <td>AccountId_4229</td>\n",
              "      <td>500.0</td>\n",
              "      <td>BatchId_53941</td>\n",
              "      <td>ChannelId_3</td>\n",
              "      <td>256</td>\n",
              "      <td>CustomerId_4683</td>\n",
              "      <td>0.0</td>\n",
              "      <td>2</td>\n",
              "      <td>airtime</td>\n",
              "      <td>ProductId_1</td>\n",
              "      <td>ProviderId_6</td>\n",
              "      <td>SubscriptionId_222</td>\n",
              "      <td>TransactionId_26203</td>\n",
              "      <td>2018-11-15T02:44:21Z</td>\n",
              "      <td>500</td>\n",
              "    </tr>\n",
              "    <tr>\n",
              "      <th>3</th>\n",
              "      <td>AccountId_648</td>\n",
              "      <td>20000.0</td>\n",
              "      <td>BatchId_102363</td>\n",
              "      <td>ChannelId_3</td>\n",
              "      <td>256</td>\n",
              "      <td>CustomerId_988</td>\n",
              "      <td>0.0</td>\n",
              "      <td>2</td>\n",
              "      <td>utility_bill</td>\n",
              "      <td>ProductId_21</td>\n",
              "      <td>ProviderId_1</td>\n",
              "      <td>SubscriptionId_2185</td>\n",
              "      <td>TransactionId_380</td>\n",
              "      <td>2018-11-15T03:32:55Z</td>\n",
              "      <td>21800</td>\n",
              "    </tr>\n",
              "    <tr>\n",
              "      <th>4</th>\n",
              "      <td>AccountId_4841</td>\n",
              "      <td>-644.0</td>\n",
              "      <td>BatchId_38780</td>\n",
              "      <td>ChannelId_2</td>\n",
              "      <td>256</td>\n",
              "      <td>CustomerId_988</td>\n",
              "      <td>0.0</td>\n",
              "      <td>2</td>\n",
              "      <td>financial_services</td>\n",
              "      <td>ProductId_6</td>\n",
              "      <td>ProviderId_4</td>\n",
              "      <td>SubscriptionId_3829</td>\n",
              "      <td>TransactionId_28195</td>\n",
              "      <td>2018-11-15T03:34:21Z</td>\n",
              "      <td>644</td>\n",
              "    </tr>\n",
              "  </tbody>\n",
              "</table>\n",
              "</div>"
            ],
            "text/plain": [
              "        AccountId   Amount  ...  TransactionStartTime  Value\n",
              "0  AccountId_3957   1000.0  ...  2018-11-15T02:18:49Z   1000\n",
              "1  AccountId_4841    -20.0  ...  2018-11-15T02:19:08Z     20\n",
              "2  AccountId_4229    500.0  ...  2018-11-15T02:44:21Z    500\n",
              "3   AccountId_648  20000.0  ...  2018-11-15T03:32:55Z  21800\n",
              "4  AccountId_4841   -644.0  ...  2018-11-15T03:34:21Z    644\n",
              "\n",
              "[5 rows x 15 columns]"
            ]
          },
          "metadata": {
            "tags": []
          },
          "execution_count": 407
        }
      ]
    },
    {
      "cell_type": "code",
      "metadata": {
        "id": "gq4me6LitZ4O",
        "colab_type": "code",
        "outputId": "b00ee502-bc8f-410f-b2a2-a564b3c905be",
        "colab": {
          "base_uri": "https://localhost:8080/",
          "height": 68
        }
      },
      "source": [
        "# Checking how many are fraud and how many are not\n",
        "df['FraudResult'].value_counts()"
      ],
      "execution_count": 408,
      "outputs": [
        {
          "output_type": "execute_result",
          "data": {
            "text/plain": [
              "0.0    95469\n",
              "1.0      193\n",
              "Name: FraudResult, dtype: int64"
            ]
          },
          "metadata": {
            "tags": []
          },
          "execution_count": 408
        }
      ]
    },
    {
      "cell_type": "code",
      "metadata": {
        "id": "r8P-DSZZuaN_",
        "colab_type": "code",
        "colab": {}
      },
      "source": [
        ""
      ],
      "execution_count": 0,
      "outputs": []
    },
    {
      "cell_type": "code",
      "metadata": {
        "id": "wzW0GvbSvfef",
        "colab_type": "code",
        "colab": {}
      },
      "source": [
        "# https://www.guru99.com/date-time-and-datetime-classes-in-python.html\n",
        "\n",
        "df[\"TransactionStartTime\"] = pd.to_datetime(train[\"TransactionStartTime\"], format='%Y-%m-%d')\n",
        "df[ \"Transaction_Day\"] =  df.TransactionStartTime.dt.day\n",
        "df[ \"Transaction_Month\"] =  df.TransactionStartTime.dt.month\n",
        "df[ \"Transaction_dow\"] =  df.TransactionStartTime.dt.weekday\n",
        "df[ \"Transaction_Week\"] =  df.TransactionStartTime.dt.week\n",
        "df[ \"Transaction_Hour\"] =  df.TransactionStartTime.dt.hour\n",
        "df[ \"Transaction_Minute\"] =  df.TransactionStartTime.dt.minute"
      ],
      "execution_count": 0,
      "outputs": []
    },
    {
      "cell_type": "code",
      "metadata": {
        "id": "7EZdFoFoviKP",
        "colab_type": "code",
        "outputId": "43864f2c-d14d-43f6-bec1-0099d56bac98",
        "colab": {
          "base_uri": "https://localhost:8080/",
          "height": 309
        }
      },
      "source": [
        "df.head()"
      ],
      "execution_count": 410,
      "outputs": [
        {
          "output_type": "execute_result",
          "data": {
            "text/html": [
              "<div>\n",
              "<style scoped>\n",
              "    .dataframe tbody tr th:only-of-type {\n",
              "        vertical-align: middle;\n",
              "    }\n",
              "\n",
              "    .dataframe tbody tr th {\n",
              "        vertical-align: top;\n",
              "    }\n",
              "\n",
              "    .dataframe thead th {\n",
              "        text-align: right;\n",
              "    }\n",
              "</style>\n",
              "<table border=\"1\" class=\"dataframe\">\n",
              "  <thead>\n",
              "    <tr style=\"text-align: right;\">\n",
              "      <th></th>\n",
              "      <th>AccountId</th>\n",
              "      <th>Amount</th>\n",
              "      <th>BatchId</th>\n",
              "      <th>ChannelId</th>\n",
              "      <th>CountryCode</th>\n",
              "      <th>CustomerId</th>\n",
              "      <th>FraudResult</th>\n",
              "      <th>PricingStrategy</th>\n",
              "      <th>ProductCategory</th>\n",
              "      <th>ProductId</th>\n",
              "      <th>ProviderId</th>\n",
              "      <th>SubscriptionId</th>\n",
              "      <th>TransactionId</th>\n",
              "      <th>TransactionStartTime</th>\n",
              "      <th>Value</th>\n",
              "      <th>Transaction_Day</th>\n",
              "      <th>Transaction_Month</th>\n",
              "      <th>Transaction_dow</th>\n",
              "      <th>Transaction_Week</th>\n",
              "      <th>Transaction_Hour</th>\n",
              "      <th>Transaction_Minute</th>\n",
              "    </tr>\n",
              "  </thead>\n",
              "  <tbody>\n",
              "    <tr>\n",
              "      <th>0</th>\n",
              "      <td>AccountId_3957</td>\n",
              "      <td>1000.0</td>\n",
              "      <td>BatchId_36123</td>\n",
              "      <td>ChannelId_3</td>\n",
              "      <td>256</td>\n",
              "      <td>CustomerId_4406</td>\n",
              "      <td>0.0</td>\n",
              "      <td>2</td>\n",
              "      <td>airtime</td>\n",
              "      <td>ProductId_10</td>\n",
              "      <td>ProviderId_6</td>\n",
              "      <td>SubscriptionId_887</td>\n",
              "      <td>TransactionId_76871</td>\n",
              "      <td>2018-11-15 02:18:49+00:00</td>\n",
              "      <td>1000</td>\n",
              "      <td>15</td>\n",
              "      <td>11</td>\n",
              "      <td>3</td>\n",
              "      <td>46</td>\n",
              "      <td>2</td>\n",
              "      <td>18</td>\n",
              "    </tr>\n",
              "    <tr>\n",
              "      <th>1</th>\n",
              "      <td>AccountId_4841</td>\n",
              "      <td>-20.0</td>\n",
              "      <td>BatchId_15642</td>\n",
              "      <td>ChannelId_2</td>\n",
              "      <td>256</td>\n",
              "      <td>CustomerId_4406</td>\n",
              "      <td>0.0</td>\n",
              "      <td>2</td>\n",
              "      <td>financial_services</td>\n",
              "      <td>ProductId_6</td>\n",
              "      <td>ProviderId_4</td>\n",
              "      <td>SubscriptionId_3829</td>\n",
              "      <td>TransactionId_73770</td>\n",
              "      <td>2018-11-15 02:19:08+00:00</td>\n",
              "      <td>20</td>\n",
              "      <td>15</td>\n",
              "      <td>11</td>\n",
              "      <td>3</td>\n",
              "      <td>46</td>\n",
              "      <td>2</td>\n",
              "      <td>19</td>\n",
              "    </tr>\n",
              "    <tr>\n",
              "      <th>2</th>\n",
              "      <td>AccountId_4229</td>\n",
              "      <td>500.0</td>\n",
              "      <td>BatchId_53941</td>\n",
              "      <td>ChannelId_3</td>\n",
              "      <td>256</td>\n",
              "      <td>CustomerId_4683</td>\n",
              "      <td>0.0</td>\n",
              "      <td>2</td>\n",
              "      <td>airtime</td>\n",
              "      <td>ProductId_1</td>\n",
              "      <td>ProviderId_6</td>\n",
              "      <td>SubscriptionId_222</td>\n",
              "      <td>TransactionId_26203</td>\n",
              "      <td>2018-11-15 02:44:21+00:00</td>\n",
              "      <td>500</td>\n",
              "      <td>15</td>\n",
              "      <td>11</td>\n",
              "      <td>3</td>\n",
              "      <td>46</td>\n",
              "      <td>2</td>\n",
              "      <td>44</td>\n",
              "    </tr>\n",
              "    <tr>\n",
              "      <th>3</th>\n",
              "      <td>AccountId_648</td>\n",
              "      <td>20000.0</td>\n",
              "      <td>BatchId_102363</td>\n",
              "      <td>ChannelId_3</td>\n",
              "      <td>256</td>\n",
              "      <td>CustomerId_988</td>\n",
              "      <td>0.0</td>\n",
              "      <td>2</td>\n",
              "      <td>utility_bill</td>\n",
              "      <td>ProductId_21</td>\n",
              "      <td>ProviderId_1</td>\n",
              "      <td>SubscriptionId_2185</td>\n",
              "      <td>TransactionId_380</td>\n",
              "      <td>2018-11-15 03:32:55+00:00</td>\n",
              "      <td>21800</td>\n",
              "      <td>15</td>\n",
              "      <td>11</td>\n",
              "      <td>3</td>\n",
              "      <td>46</td>\n",
              "      <td>3</td>\n",
              "      <td>32</td>\n",
              "    </tr>\n",
              "    <tr>\n",
              "      <th>4</th>\n",
              "      <td>AccountId_4841</td>\n",
              "      <td>-644.0</td>\n",
              "      <td>BatchId_38780</td>\n",
              "      <td>ChannelId_2</td>\n",
              "      <td>256</td>\n",
              "      <td>CustomerId_988</td>\n",
              "      <td>0.0</td>\n",
              "      <td>2</td>\n",
              "      <td>financial_services</td>\n",
              "      <td>ProductId_6</td>\n",
              "      <td>ProviderId_4</td>\n",
              "      <td>SubscriptionId_3829</td>\n",
              "      <td>TransactionId_28195</td>\n",
              "      <td>2018-11-15 03:34:21+00:00</td>\n",
              "      <td>644</td>\n",
              "      <td>15</td>\n",
              "      <td>11</td>\n",
              "      <td>3</td>\n",
              "      <td>46</td>\n",
              "      <td>3</td>\n",
              "      <td>34</td>\n",
              "    </tr>\n",
              "  </tbody>\n",
              "</table>\n",
              "</div>"
            ],
            "text/plain": [
              "        AccountId   Amount  ... Transaction_Hour Transaction_Minute\n",
              "0  AccountId_3957   1000.0  ...                2                 18\n",
              "1  AccountId_4841    -20.0  ...                2                 19\n",
              "2  AccountId_4229    500.0  ...                2                 44\n",
              "3   AccountId_648  20000.0  ...                3                 32\n",
              "4  AccountId_4841   -644.0  ...                3                 34\n",
              "\n",
              "[5 rows x 21 columns]"
            ]
          },
          "metadata": {
            "tags": []
          },
          "execution_count": 410
        }
      ]
    },
    {
      "cell_type": "code",
      "metadata": {
        "id": "P45FNOUy57sA",
        "colab_type": "code",
        "outputId": "b226fbd8-ce21-4fdc-90da-b6ba820b1e76",
        "colab": {
          "base_uri": "https://localhost:8080/",
          "height": 136
        }
      },
      "source": [
        "df.columns"
      ],
      "execution_count": 411,
      "outputs": [
        {
          "output_type": "execute_result",
          "data": {
            "text/plain": [
              "Index(['AccountId', 'Amount', 'BatchId', 'ChannelId', 'CountryCode',\n",
              "       'CustomerId', 'FraudResult', 'PricingStrategy', 'ProductCategory',\n",
              "       'ProductId', 'ProviderId', 'SubscriptionId', 'TransactionId',\n",
              "       'TransactionStartTime', 'Value', 'Transaction_Day', 'Transaction_Month',\n",
              "       'Transaction_dow', 'Transaction_Week', 'Transaction_Hour',\n",
              "       'Transaction_Minute'],\n",
              "      dtype='object')"
            ]
          },
          "metadata": {
            "tags": []
          },
          "execution_count": 411
        }
      ]
    },
    {
      "cell_type": "code",
      "metadata": {
        "id": "IxtaEFUz6LuA",
        "colab_type": "code",
        "outputId": "42440037-16a1-4916-898e-955cfc72996d",
        "colab": {
          "base_uri": "https://localhost:8080/",
          "height": 153
        }
      },
      "source": [
        "df.columns.astype('category')"
      ],
      "execution_count": 412,
      "outputs": [
        {
          "output_type": "execute_result",
          "data": {
            "text/plain": [
              "CategoricalIndex(['AccountId', 'Amount', 'BatchId', 'ChannelId', 'CountryCode',\n",
              "                  'CustomerId', 'FraudResult', 'PricingStrategy',\n",
              "                  'ProductCategory', 'ProductId', 'ProviderId',\n",
              "                  'SubscriptionId', 'TransactionId', 'TransactionStartTime',\n",
              "                  'Value', 'Transaction_Day', 'Transaction_Month',\n",
              "                  'Transaction_dow', 'Transaction_Week', 'Transaction_Hour',\n",
              "                  'Transaction_Minute'],\n",
              "                 categories=['AccountId', 'Amount', 'BatchId', 'ChannelId', 'CountryCode', 'CustomerId', 'FraudResult', 'PricingStrategy', ...], ordered=False, dtype='category')"
            ]
          },
          "metadata": {
            "tags": []
          },
          "execution_count": 412
        }
      ]
    },
    {
      "cell_type": "code",
      "metadata": {
        "id": "aMp_EjTIx-2d",
        "colab_type": "code",
        "colab": {}
      },
      "source": [
        "def percent_missing(df):\n",
        "    # your code here\n",
        "    percent_missing = df.isnull().sum() * 100 / len(df)\n",
        "    \n",
        "    return dict(round(percent_missing,2))"
      ],
      "execution_count": 0,
      "outputs": []
    },
    {
      "cell_type": "code",
      "metadata": {
        "id": "sCKD_YR61OEX",
        "colab_type": "code",
        "outputId": "696a3a3e-71bb-4dfb-c84f-0c106e71220d",
        "colab": {
          "base_uri": "https://localhost:8080/",
          "height": 374
        }
      },
      "source": [
        "percent_missing(df)"
      ],
      "execution_count": 414,
      "outputs": [
        {
          "output_type": "execute_result",
          "data": {
            "text/plain": [
              "{'AccountId': 0.0,\n",
              " 'Amount': 0.0,\n",
              " 'BatchId': 0.0,\n",
              " 'ChannelId': 0.0,\n",
              " 'CountryCode': 0.0,\n",
              " 'CustomerId': 0.0,\n",
              " 'FraudResult': 32.0,\n",
              " 'PricingStrategy': 0.0,\n",
              " 'ProductCategory': 0.0,\n",
              " 'ProductId': 0.0,\n",
              " 'ProviderId': 0.0,\n",
              " 'SubscriptionId': 0.0,\n",
              " 'TransactionId': 0.0,\n",
              " 'TransactionStartTime': 0.0,\n",
              " 'Transaction_Day': 0.0,\n",
              " 'Transaction_Hour': 0.0,\n",
              " 'Transaction_Minute': 0.0,\n",
              " 'Transaction_Month': 0.0,\n",
              " 'Transaction_Week': 0.0,\n",
              " 'Transaction_dow': 0.0,\n",
              " 'Value': 0.0}"
            ]
          },
          "metadata": {
            "tags": []
          },
          "execution_count": 414
        }
      ]
    },
    {
      "cell_type": "code",
      "metadata": {
        "id": "5kWnDGsF4qeN",
        "colab_type": "code",
        "colab": {}
      },
      "source": [
        "# storing for reference in the model since some columns will be dropped\n",
        "FraudResult = train[\"FraudResult\"]\n",
        "TransactionId = test[\"TransactionId\"]"
      ],
      "execution_count": 0,
      "outputs": []
    },
    {
      "cell_type": "code",
      "metadata": {
        "id": "P_of_kVU4qrd",
        "colab_type": "code",
        "colab": {}
      },
      "source": [
        "# dropping unnecessary columns\n",
        "# referenced from github \n",
        "df.drop(columns=[\"TransactionId\", \"AccountId\",\"ProductId\", \"SubscriptionId\", \"BatchId\", \"CustomerId\", \"FraudResult\", \"CountryCode\", \"TransactionStartTime\"], inplace = True)"
      ],
      "execution_count": 0,
      "outputs": []
    },
    {
      "cell_type": "code",
      "metadata": {
        "id": "AMV2PQiH1RgX",
        "colab_type": "code",
        "outputId": "c163638f-7177-419d-d344-a3b3d7ebfd3e",
        "colab": {
          "base_uri": "https://localhost:8080/",
          "height": 204
        }
      },
      "source": [
        "df.head()"
      ],
      "execution_count": 417,
      "outputs": [
        {
          "output_type": "execute_result",
          "data": {
            "text/html": [
              "<div>\n",
              "<style scoped>\n",
              "    .dataframe tbody tr th:only-of-type {\n",
              "        vertical-align: middle;\n",
              "    }\n",
              "\n",
              "    .dataframe tbody tr th {\n",
              "        vertical-align: top;\n",
              "    }\n",
              "\n",
              "    .dataframe thead th {\n",
              "        text-align: right;\n",
              "    }\n",
              "</style>\n",
              "<table border=\"1\" class=\"dataframe\">\n",
              "  <thead>\n",
              "    <tr style=\"text-align: right;\">\n",
              "      <th></th>\n",
              "      <th>Amount</th>\n",
              "      <th>ChannelId</th>\n",
              "      <th>PricingStrategy</th>\n",
              "      <th>ProductCategory</th>\n",
              "      <th>ProviderId</th>\n",
              "      <th>Value</th>\n",
              "      <th>Transaction_Day</th>\n",
              "      <th>Transaction_Month</th>\n",
              "      <th>Transaction_dow</th>\n",
              "      <th>Transaction_Week</th>\n",
              "      <th>Transaction_Hour</th>\n",
              "      <th>Transaction_Minute</th>\n",
              "    </tr>\n",
              "  </thead>\n",
              "  <tbody>\n",
              "    <tr>\n",
              "      <th>0</th>\n",
              "      <td>1000.0</td>\n",
              "      <td>ChannelId_3</td>\n",
              "      <td>2</td>\n",
              "      <td>airtime</td>\n",
              "      <td>ProviderId_6</td>\n",
              "      <td>1000</td>\n",
              "      <td>15</td>\n",
              "      <td>11</td>\n",
              "      <td>3</td>\n",
              "      <td>46</td>\n",
              "      <td>2</td>\n",
              "      <td>18</td>\n",
              "    </tr>\n",
              "    <tr>\n",
              "      <th>1</th>\n",
              "      <td>-20.0</td>\n",
              "      <td>ChannelId_2</td>\n",
              "      <td>2</td>\n",
              "      <td>financial_services</td>\n",
              "      <td>ProviderId_4</td>\n",
              "      <td>20</td>\n",
              "      <td>15</td>\n",
              "      <td>11</td>\n",
              "      <td>3</td>\n",
              "      <td>46</td>\n",
              "      <td>2</td>\n",
              "      <td>19</td>\n",
              "    </tr>\n",
              "    <tr>\n",
              "      <th>2</th>\n",
              "      <td>500.0</td>\n",
              "      <td>ChannelId_3</td>\n",
              "      <td>2</td>\n",
              "      <td>airtime</td>\n",
              "      <td>ProviderId_6</td>\n",
              "      <td>500</td>\n",
              "      <td>15</td>\n",
              "      <td>11</td>\n",
              "      <td>3</td>\n",
              "      <td>46</td>\n",
              "      <td>2</td>\n",
              "      <td>44</td>\n",
              "    </tr>\n",
              "    <tr>\n",
              "      <th>3</th>\n",
              "      <td>20000.0</td>\n",
              "      <td>ChannelId_3</td>\n",
              "      <td>2</td>\n",
              "      <td>utility_bill</td>\n",
              "      <td>ProviderId_1</td>\n",
              "      <td>21800</td>\n",
              "      <td>15</td>\n",
              "      <td>11</td>\n",
              "      <td>3</td>\n",
              "      <td>46</td>\n",
              "      <td>3</td>\n",
              "      <td>32</td>\n",
              "    </tr>\n",
              "    <tr>\n",
              "      <th>4</th>\n",
              "      <td>-644.0</td>\n",
              "      <td>ChannelId_2</td>\n",
              "      <td>2</td>\n",
              "      <td>financial_services</td>\n",
              "      <td>ProviderId_4</td>\n",
              "      <td>644</td>\n",
              "      <td>15</td>\n",
              "      <td>11</td>\n",
              "      <td>3</td>\n",
              "      <td>46</td>\n",
              "      <td>3</td>\n",
              "      <td>34</td>\n",
              "    </tr>\n",
              "  </tbody>\n",
              "</table>\n",
              "</div>"
            ],
            "text/plain": [
              "    Amount    ChannelId  ...  Transaction_Hour Transaction_Minute\n",
              "0   1000.0  ChannelId_3  ...                 2                 18\n",
              "1    -20.0  ChannelId_2  ...                 2                 19\n",
              "2    500.0  ChannelId_3  ...                 2                 44\n",
              "3  20000.0  ChannelId_3  ...                 3                 32\n",
              "4   -644.0  ChannelId_2  ...                 3                 34\n",
              "\n",
              "[5 rows x 12 columns]"
            ]
          },
          "metadata": {
            "tags": []
          },
          "execution_count": 417
        }
      ]
    },
    {
      "cell_type": "code",
      "metadata": {
        "id": "ML_-wsr45Ely",
        "colab_type": "code",
        "outputId": "e41bcea9-1855-43e1-b5d3-c0115f8508c7",
        "colab": {
          "base_uri": "https://localhost:8080/",
          "height": 204
        }
      },
      "source": [
        "# rearranging to categorical and numerical\n",
        "df = df[['ProviderId', 'ProductCategory', 'ChannelId', 'Amount','Value','PricingStrategy','Transaction_Day','Transaction_Month','Transaction_dow','Transaction_Hour']]\n",
        "df.head()"
      ],
      "execution_count": 418,
      "outputs": [
        {
          "output_type": "execute_result",
          "data": {
            "text/html": [
              "<div>\n",
              "<style scoped>\n",
              "    .dataframe tbody tr th:only-of-type {\n",
              "        vertical-align: middle;\n",
              "    }\n",
              "\n",
              "    .dataframe tbody tr th {\n",
              "        vertical-align: top;\n",
              "    }\n",
              "\n",
              "    .dataframe thead th {\n",
              "        text-align: right;\n",
              "    }\n",
              "</style>\n",
              "<table border=\"1\" class=\"dataframe\">\n",
              "  <thead>\n",
              "    <tr style=\"text-align: right;\">\n",
              "      <th></th>\n",
              "      <th>ProviderId</th>\n",
              "      <th>ProductCategory</th>\n",
              "      <th>ChannelId</th>\n",
              "      <th>Amount</th>\n",
              "      <th>Value</th>\n",
              "      <th>PricingStrategy</th>\n",
              "      <th>Transaction_Day</th>\n",
              "      <th>Transaction_Month</th>\n",
              "      <th>Transaction_dow</th>\n",
              "      <th>Transaction_Hour</th>\n",
              "    </tr>\n",
              "  </thead>\n",
              "  <tbody>\n",
              "    <tr>\n",
              "      <th>0</th>\n",
              "      <td>ProviderId_6</td>\n",
              "      <td>airtime</td>\n",
              "      <td>ChannelId_3</td>\n",
              "      <td>1000.0</td>\n",
              "      <td>1000</td>\n",
              "      <td>2</td>\n",
              "      <td>15</td>\n",
              "      <td>11</td>\n",
              "      <td>3</td>\n",
              "      <td>2</td>\n",
              "    </tr>\n",
              "    <tr>\n",
              "      <th>1</th>\n",
              "      <td>ProviderId_4</td>\n",
              "      <td>financial_services</td>\n",
              "      <td>ChannelId_2</td>\n",
              "      <td>-20.0</td>\n",
              "      <td>20</td>\n",
              "      <td>2</td>\n",
              "      <td>15</td>\n",
              "      <td>11</td>\n",
              "      <td>3</td>\n",
              "      <td>2</td>\n",
              "    </tr>\n",
              "    <tr>\n",
              "      <th>2</th>\n",
              "      <td>ProviderId_6</td>\n",
              "      <td>airtime</td>\n",
              "      <td>ChannelId_3</td>\n",
              "      <td>500.0</td>\n",
              "      <td>500</td>\n",
              "      <td>2</td>\n",
              "      <td>15</td>\n",
              "      <td>11</td>\n",
              "      <td>3</td>\n",
              "      <td>2</td>\n",
              "    </tr>\n",
              "    <tr>\n",
              "      <th>3</th>\n",
              "      <td>ProviderId_1</td>\n",
              "      <td>utility_bill</td>\n",
              "      <td>ChannelId_3</td>\n",
              "      <td>20000.0</td>\n",
              "      <td>21800</td>\n",
              "      <td>2</td>\n",
              "      <td>15</td>\n",
              "      <td>11</td>\n",
              "      <td>3</td>\n",
              "      <td>3</td>\n",
              "    </tr>\n",
              "    <tr>\n",
              "      <th>4</th>\n",
              "      <td>ProviderId_4</td>\n",
              "      <td>financial_services</td>\n",
              "      <td>ChannelId_2</td>\n",
              "      <td>-644.0</td>\n",
              "      <td>644</td>\n",
              "      <td>2</td>\n",
              "      <td>15</td>\n",
              "      <td>11</td>\n",
              "      <td>3</td>\n",
              "      <td>3</td>\n",
              "    </tr>\n",
              "  </tbody>\n",
              "</table>\n",
              "</div>"
            ],
            "text/plain": [
              "     ProviderId     ProductCategory  ... Transaction_dow  Transaction_Hour\n",
              "0  ProviderId_6             airtime  ...               3                 2\n",
              "1  ProviderId_4  financial_services  ...               3                 2\n",
              "2  ProviderId_6             airtime  ...               3                 2\n",
              "3  ProviderId_1        utility_bill  ...               3                 3\n",
              "4  ProviderId_4  financial_services  ...               3                 3\n",
              "\n",
              "[5 rows x 10 columns]"
            ]
          },
          "metadata": {
            "tags": []
          },
          "execution_count": 418
        }
      ]
    },
    {
      "cell_type": "code",
      "metadata": {
        "id": "1TXCvzqV5Exh",
        "colab_type": "code",
        "colab": {}
      },
      "source": [
        "# seperating between categorical and numerical\n",
        "cat_columns = [\"ProviderId\", \"ProductCategory\", \"ChannelId\", \"PricingStrategy\"]\n",
        "num_colums = [\"Amount\", \"Value\", \"Transaction_Day\",\"Transaction_Month\", \"Transaction_dow\", \"Transaction_Hour\"]"
      ],
      "execution_count": 0,
      "outputs": []
    },
    {
      "cell_type": "code",
      "metadata": {
        "id": "rlQeWvRc_ZXZ",
        "colab_type": "code",
        "colab": {}
      },
      "source": [
        "# referenced from github\n",
        "def standardizevar(x):\n",
        "  val = (x- np.mean(x))/ np.std(x)\n",
        "  return(val)\n",
        "    \n",
        "\n",
        "for col in num_colums:\n",
        "  df[col] = pd.to_numeric(df[col])\n",
        "df[num_colums] = df[num_colums].apply(standardizevar)"
      ],
      "execution_count": 0,
      "outputs": []
    },
    {
      "cell_type": "code",
      "metadata": {
        "id": "nGnEQFFH_ZgV",
        "colab_type": "code",
        "outputId": "25805a5a-d671-4502-dc29-60a5ceb2554e",
        "colab": {
          "base_uri": "https://localhost:8080/",
          "height": 204
        }
      },
      "source": [
        "df.head()"
      ],
      "execution_count": 421,
      "outputs": [
        {
          "output_type": "execute_result",
          "data": {
            "text/html": [
              "<div>\n",
              "<style scoped>\n",
              "    .dataframe tbody tr th:only-of-type {\n",
              "        vertical-align: middle;\n",
              "    }\n",
              "\n",
              "    .dataframe tbody tr th {\n",
              "        vertical-align: top;\n",
              "    }\n",
              "\n",
              "    .dataframe thead th {\n",
              "        text-align: right;\n",
              "    }\n",
              "</style>\n",
              "<table border=\"1\" class=\"dataframe\">\n",
              "  <thead>\n",
              "    <tr style=\"text-align: right;\">\n",
              "      <th></th>\n",
              "      <th>ProviderId</th>\n",
              "      <th>ProductCategory</th>\n",
              "      <th>ChannelId</th>\n",
              "      <th>Amount</th>\n",
              "      <th>Value</th>\n",
              "      <th>PricingStrategy</th>\n",
              "      <th>Transaction_Day</th>\n",
              "      <th>Transaction_Month</th>\n",
              "      <th>Transaction_dow</th>\n",
              "      <th>Transaction_Hour</th>\n",
              "    </tr>\n",
              "  </thead>\n",
              "  <tbody>\n",
              "    <tr>\n",
              "      <th>0</th>\n",
              "      <td>ProviderId_6</td>\n",
              "      <td>airtime</td>\n",
              "      <td>ChannelId_3</td>\n",
              "      <td>-0.043799</td>\n",
              "      <td>-0.078466</td>\n",
              "      <td>2</td>\n",
              "      <td>-0.156082</td>\n",
              "      <td>0.563406</td>\n",
              "      <td>-0.00578</td>\n",
              "      <td>-2.153032</td>\n",
              "    </tr>\n",
              "    <tr>\n",
              "      <th>1</th>\n",
              "      <td>ProviderId_4</td>\n",
              "      <td>financial_services</td>\n",
              "      <td>ChannelId_2</td>\n",
              "      <td>-0.052644</td>\n",
              "      <td>-0.086983</td>\n",
              "      <td>2</td>\n",
              "      <td>-0.156082</td>\n",
              "      <td>0.563406</td>\n",
              "      <td>-0.00578</td>\n",
              "      <td>-2.153032</td>\n",
              "    </tr>\n",
              "    <tr>\n",
              "      <th>2</th>\n",
              "      <td>ProviderId_6</td>\n",
              "      <td>airtime</td>\n",
              "      <td>ChannelId_3</td>\n",
              "      <td>-0.048135</td>\n",
              "      <td>-0.082812</td>\n",
              "      <td>2</td>\n",
              "      <td>-0.156082</td>\n",
              "      <td>0.563406</td>\n",
              "      <td>-0.00578</td>\n",
              "      <td>-2.153032</td>\n",
              "    </tr>\n",
              "    <tr>\n",
              "      <th>3</th>\n",
              "      <td>ProviderId_1</td>\n",
              "      <td>utility_bill</td>\n",
              "      <td>ChannelId_3</td>\n",
              "      <td>0.120970</td>\n",
              "      <td>0.102305</td>\n",
              "      <td>2</td>\n",
              "      <td>-0.156082</td>\n",
              "      <td>0.563406</td>\n",
              "      <td>-0.00578</td>\n",
              "      <td>-1.946419</td>\n",
              "    </tr>\n",
              "    <tr>\n",
              "      <th>4</th>\n",
              "      <td>ProviderId_4</td>\n",
              "      <td>financial_services</td>\n",
              "      <td>ChannelId_2</td>\n",
              "      <td>-0.058056</td>\n",
              "      <td>-0.081560</td>\n",
              "      <td>2</td>\n",
              "      <td>-0.156082</td>\n",
              "      <td>0.563406</td>\n",
              "      <td>-0.00578</td>\n",
              "      <td>-1.946419</td>\n",
              "    </tr>\n",
              "  </tbody>\n",
              "</table>\n",
              "</div>"
            ],
            "text/plain": [
              "     ProviderId     ProductCategory  ... Transaction_dow  Transaction_Hour\n",
              "0  ProviderId_6             airtime  ...        -0.00578         -2.153032\n",
              "1  ProviderId_4  financial_services  ...        -0.00578         -2.153032\n",
              "2  ProviderId_6             airtime  ...        -0.00578         -2.153032\n",
              "3  ProviderId_1        utility_bill  ...        -0.00578         -1.946419\n",
              "4  ProviderId_4  financial_services  ...        -0.00578         -1.946419\n",
              "\n",
              "[5 rows x 10 columns]"
            ]
          },
          "metadata": {
            "tags": []
          },
          "execution_count": 421
        }
      ]
    },
    {
      "cell_type": "code",
      "metadata": {
        "id": "lgC9ztHF_Ztl",
        "colab_type": "code",
        "colab": {}
      },
      "source": [
        "# Label Encode\n",
        "from sklearn.preprocessing import LabelEncoder\n",
        "lab = LabelEncoder()\n",
        "for feature in cat_columns:\n",
        "    df[feature] = lab.fit_transform(df[feature])"
      ],
      "execution_count": 0,
      "outputs": []
    },
    {
      "cell_type": "code",
      "metadata": {
        "id": "hiv7TgrFB2CI",
        "colab_type": "code",
        "outputId": "2ec7a344-f796-4bab-9ee3-d4b2d9a342fd",
        "colab": {
          "base_uri": "https://localhost:8080/",
          "height": 204
        }
      },
      "source": [
        "df.head()"
      ],
      "execution_count": 423,
      "outputs": [
        {
          "output_type": "execute_result",
          "data": {
            "text/html": [
              "<div>\n",
              "<style scoped>\n",
              "    .dataframe tbody tr th:only-of-type {\n",
              "        vertical-align: middle;\n",
              "    }\n",
              "\n",
              "    .dataframe tbody tr th {\n",
              "        vertical-align: top;\n",
              "    }\n",
              "\n",
              "    .dataframe thead th {\n",
              "        text-align: right;\n",
              "    }\n",
              "</style>\n",
              "<table border=\"1\" class=\"dataframe\">\n",
              "  <thead>\n",
              "    <tr style=\"text-align: right;\">\n",
              "      <th></th>\n",
              "      <th>ProviderId</th>\n",
              "      <th>ProductCategory</th>\n",
              "      <th>ChannelId</th>\n",
              "      <th>Amount</th>\n",
              "      <th>Value</th>\n",
              "      <th>PricingStrategy</th>\n",
              "      <th>Transaction_Day</th>\n",
              "      <th>Transaction_Month</th>\n",
              "      <th>Transaction_dow</th>\n",
              "      <th>Transaction_Hour</th>\n",
              "    </tr>\n",
              "  </thead>\n",
              "  <tbody>\n",
              "    <tr>\n",
              "      <th>0</th>\n",
              "      <td>5</td>\n",
              "      <td>0</td>\n",
              "      <td>2</td>\n",
              "      <td>-0.043799</td>\n",
              "      <td>-0.078466</td>\n",
              "      <td>2</td>\n",
              "      <td>-0.156082</td>\n",
              "      <td>0.563406</td>\n",
              "      <td>-0.00578</td>\n",
              "      <td>-2.153032</td>\n",
              "    </tr>\n",
              "    <tr>\n",
              "      <th>1</th>\n",
              "      <td>3</td>\n",
              "      <td>2</td>\n",
              "      <td>1</td>\n",
              "      <td>-0.052644</td>\n",
              "      <td>-0.086983</td>\n",
              "      <td>2</td>\n",
              "      <td>-0.156082</td>\n",
              "      <td>0.563406</td>\n",
              "      <td>-0.00578</td>\n",
              "      <td>-2.153032</td>\n",
              "    </tr>\n",
              "    <tr>\n",
              "      <th>2</th>\n",
              "      <td>5</td>\n",
              "      <td>0</td>\n",
              "      <td>2</td>\n",
              "      <td>-0.048135</td>\n",
              "      <td>-0.082812</td>\n",
              "      <td>2</td>\n",
              "      <td>-0.156082</td>\n",
              "      <td>0.563406</td>\n",
              "      <td>-0.00578</td>\n",
              "      <td>-2.153032</td>\n",
              "    </tr>\n",
              "    <tr>\n",
              "      <th>3</th>\n",
              "      <td>0</td>\n",
              "      <td>9</td>\n",
              "      <td>2</td>\n",
              "      <td>0.120970</td>\n",
              "      <td>0.102305</td>\n",
              "      <td>2</td>\n",
              "      <td>-0.156082</td>\n",
              "      <td>0.563406</td>\n",
              "      <td>-0.00578</td>\n",
              "      <td>-1.946419</td>\n",
              "    </tr>\n",
              "    <tr>\n",
              "      <th>4</th>\n",
              "      <td>3</td>\n",
              "      <td>2</td>\n",
              "      <td>1</td>\n",
              "      <td>-0.058056</td>\n",
              "      <td>-0.081560</td>\n",
              "      <td>2</td>\n",
              "      <td>-0.156082</td>\n",
              "      <td>0.563406</td>\n",
              "      <td>-0.00578</td>\n",
              "      <td>-1.946419</td>\n",
              "    </tr>\n",
              "  </tbody>\n",
              "</table>\n",
              "</div>"
            ],
            "text/plain": [
              "   ProviderId  ProductCategory  ...  Transaction_dow  Transaction_Hour\n",
              "0           5                0  ...         -0.00578         -2.153032\n",
              "1           3                2  ...         -0.00578         -2.153032\n",
              "2           5                0  ...         -0.00578         -2.153032\n",
              "3           0                9  ...         -0.00578         -1.946419\n",
              "4           3                2  ...         -0.00578         -1.946419\n",
              "\n",
              "[5 rows x 10 columns]"
            ]
          },
          "metadata": {
            "tags": []
          },
          "execution_count": 423
        }
      ]
    },
    {
      "cell_type": "code",
      "metadata": {
        "id": "kQoRdIzbbOC8",
        "colab_type": "code",
        "colab": {
          "base_uri": "https://localhost:8080/",
          "height": 68
        },
        "outputId": "d97f37d6-8f60-427c-ea91-c8919ad5a598"
      },
      "source": [
        "# https://towardsdatascience.com/methods-for-dealing-with-imbalanced-data-5b761be45a18\n",
        "from sklearn.utils import resample\n",
        "\n",
        "X_train = df[:train_shape]\n",
        "X_test = df[train_shape:]\n",
        "\n",
        "# setting up testing and training sets\n",
        "from sklearn.model_selection import train_test_split\n",
        "X_train, X_test, y_train, y_test = train_test_split(X_train, FraudResult, test_size=0.25, random_state=27)\n",
        "\n",
        "# concatenate our training data back together\n",
        "train_section = pd.concat([xtrain, ytrain], axis=1)\n",
        "\n",
        "# separate minority and majority classes\n",
        "not_fraud = train_section[train_section.FraudResult==0]\n",
        "fraud = train_section[train_section.FraudResult==1];fraud.shape \n",
        "\n",
        "# upsample minority\n",
        "fraud_upsampled = resample(fraud,\n",
        "                          replace=True, # sample with replacement\n",
        "                          n_samples=len(not_fraud), # match number in majority class\n",
        "                          random_state=27) # reproducible results\n",
        "\n",
        "# combine majority and upsampled minority\n",
        "upsampled = pd.concat([not_fraud, fraud_upsampled])\n",
        "\n",
        "# check new class counts\n",
        "upsampled.FraudResult.value_counts()\n"
      ],
      "execution_count": 424,
      "outputs": [
        {
          "output_type": "execute_result",
          "data": {
            "text/plain": [
              "1    81142\n",
              "0    81142\n",
              "Name: FraudResult, dtype: int64"
            ]
          },
          "metadata": {
            "tags": []
          },
          "execution_count": 424
        }
      ]
    },
    {
      "cell_type": "code",
      "metadata": {
        "id": "v0YZEnKti9yd",
        "colab_type": "code",
        "colab": {}
      },
      "source": [
        "ytrain = upsampled.FraudResult\n",
        "xtrain = upsampled.drop('FraudResult', axis=1)"
      ],
      "execution_count": 0,
      "outputs": []
    },
    {
      "cell_type": "code",
      "metadata": {
        "id": "eKFKoHZBeQON",
        "colab_type": "code",
        "colab": {
          "base_uri": "https://localhost:8080/",
          "height": 68
        },
        "outputId": "88e8bdf8-1a39-48f2-c04a-3a5a282173c9"
      },
      "source": [
        "# https://towardsdatascience.com/methods-for-dealing-with-imbalanced-data-5b761be45a18\n",
        "from sklearn.metrics import accuracy_score, f1_score, recall_score\n",
        "\n",
        "upsampled = LogisticRegression(solver='liblinear').fit(xtrain, ytrain)\n",
        "\n",
        "upsampled_pred = upsampled.predict(X_test)\n",
        "\n",
        "# Checking accuracy\n",
        "print(accuracy_score(y_test, upsampled_pred))\n",
        "    \n",
        "# f1 score\n",
        "print(f1_score(y_test, upsampled_pred))\n",
        "    \n",
        "print(recall_score(y_test, upsampled_pred))"
      ],
      "execution_count": 426,
      "outputs": [
        {
          "output_type": "stream",
          "text": [
            "0.9923064057534705\n",
            "0.3566433566433566\n",
            "0.9807692307692307\n"
          ],
          "name": "stdout"
        }
      ]
    },
    {
      "cell_type": "code",
      "metadata": {
        "id": "fsk106xfE1zP",
        "colab_type": "code",
        "colab": {}
      },
      "source": [
        "# downsample majority\n",
        "\n",
        "#not_fraud_downsampled = resample(not_fraud,\n",
        "           #                     replace = False, # sample without replacement\n",
        "           #                     n_samples = len(fraud), # match minority n\n",
        "           #                     random_state = 27) # reproducible results\n",
        "\n",
        "# combine minority and downsampled majority\n",
        "#downsampled = pd.concat([not_fraud_downsampled, fraud])\n",
        "\n",
        "# checking counts\n",
        "#downsampled.FraudResult.value_counts()"
      ],
      "execution_count": 0,
      "outputs": []
    },
    {
      "cell_type": "code",
      "metadata": {
        "id": "NSS8oxVcaUSs",
        "colab_type": "code",
        "colab": {}
      },
      "source": [
        "#Oversample fraud\n",
        "#fraud_oversampled = resample(fraud,\n",
        "#                           replace=True, \n",
        "#                           n_samples=len(not_fraud),\n",
        "#                           random_state=1991) \n",
        "\n",
        "# #Append two datasets\n",
        "#upsampled = pd.concat([not_fraud, fraud_oversampled])\n",
        "#upsampled.FraudResult.value_counts()"
      ],
      "execution_count": 0,
      "outputs": []
    },
    {
      "cell_type": "code",
      "metadata": {
        "id": "lkhsatTio1Ma",
        "colab_type": "code",
        "colab": {}
      },
      "source": [
        "#from imblearn.over_sampling import SMOTE\n",
        "\n",
        "#X_train = df[:train_shape]\n",
        "#X_test = df[train_shape:]\n",
        "# setting up testing and training sets\n",
        "#X_train, X_test, y_train, y_test = train_test_split(X_train, FraudResult, test_size=0.25, random_state=27)\n",
        "\n",
        "#sm = SMOTE(random_state=27, ratio=1.0)\n",
        "#X_train, y_train = sm.fit_sample(X_train, y_train)"
      ],
      "execution_count": 0,
      "outputs": []
    },
    {
      "cell_type": "code",
      "metadata": {
        "id": "86Vr7YPIqKb7",
        "colab_type": "code",
        "colab": {
          "base_uri": "https://localhost:8080/",
          "height": 68
        },
        "outputId": "3f2299c4-5df6-47e7-89b0-5d68436f9ec8"
      },
      "source": [
        "#smote = LogisticRegression(solver='liblinear').fit(X_train, y_train)\n",
        "\n",
        "#smote_pred = smote.predict(X_test)\n",
        "\n",
        "# Checking accuracy\n",
        "#print(accuracy_score(y_test, smote_pred))\n",
        "\n",
        "# f1 score\n",
        "#print(f1_score(y_test, smote_pred))\n",
        "\n",
        "#print(recall_score(y_test, smote_pred))"
      ],
      "execution_count": 379,
      "outputs": [
        {
          "output_type": "stream",
          "text": [
            "0.9918046496069577\n",
            "0.3422818791946308\n",
            "0.9807692307692307\n"
          ],
          "name": "stdout"
        }
      ]
    },
    {
      "cell_type": "code",
      "metadata": {
        "id": "GgJsWS4MUmzb",
        "colab_type": "code",
        "colab": {
          "base_uri": "https://localhost:8080/",
          "height": 34
        },
        "outputId": "ff54b8b0-fb8f-41fa-d40c-2b781c73ee6d"
      },
      "source": [
        "xtrain.shape"
      ],
      "execution_count": 428,
      "outputs": [
        {
          "output_type": "execute_result",
          "data": {
            "text/plain": [
              "(162284, 10)"
            ]
          },
          "metadata": {
            "tags": []
          },
          "execution_count": 428
        }
      ]
    },
    {
      "cell_type": "code",
      "metadata": {
        "id": "f5L4CAvFUm4x",
        "colab_type": "code",
        "colab": {
          "base_uri": "https://localhost:8080/",
          "height": 34
        },
        "outputId": "82328b1c-c383-4ebc-8ed3-d9b2e3d75a6d"
      },
      "source": [
        "FraudResult.shape"
      ],
      "execution_count": 429,
      "outputs": [
        {
          "output_type": "execute_result",
          "data": {
            "text/plain": [
              "(95662,)"
            ]
          },
          "metadata": {
            "tags": []
          },
          "execution_count": 429
        }
      ]
    },
    {
      "cell_type": "code",
      "metadata": {
        "id": "T5LMalfvYB-u",
        "colab_type": "code",
        "colab": {
          "base_uri": "https://localhost:8080/",
          "height": 34
        },
        "outputId": "653bfd5e-8935-4cd8-f50c-50de80164725"
      },
      "source": [
        "ytest.shape"
      ],
      "execution_count": 430,
      "outputs": [
        {
          "output_type": "execute_result",
          "data": {
            "text/plain": [
              "(14350,)"
            ]
          },
          "metadata": {
            "tags": []
          },
          "execution_count": 430
        }
      ]
    },
    {
      "cell_type": "code",
      "metadata": {
        "id": "L59PoXp3B2cY",
        "colab_type": "code",
        "colab": {}
      },
      "source": [
        "model_rand = RandomForestClassifier(random_state = 1991,max_depth= 8,  n_estimators=500)"
      ],
      "execution_count": 0,
      "outputs": []
    },
    {
      "cell_type": "code",
      "metadata": {
        "id": "Hc-BsiIO_Zz1",
        "colab_type": "code",
        "outputId": "ce77167b-0e4d-49cb-b324-1835c0df7441",
        "colab": {
          "base_uri": "https://localhost:8080/",
          "height": 136
        }
      },
      "source": [
        "model_rand.fit(xtrain,ytrain)"
      ],
      "execution_count": 432,
      "outputs": [
        {
          "output_type": "execute_result",
          "data": {
            "text/plain": [
              "RandomForestClassifier(bootstrap=True, class_weight=None, criterion='gini',\n",
              "                       max_depth=8, max_features='auto', max_leaf_nodes=None,\n",
              "                       min_impurity_decrease=0.0, min_impurity_split=None,\n",
              "                       min_samples_leaf=1, min_samples_split=2,\n",
              "                       min_weight_fraction_leaf=0.0, n_estimators=500,\n",
              "                       n_jobs=None, oob_score=False, random_state=1991,\n",
              "                       verbose=0, warm_start=False)"
            ]
          },
          "metadata": {
            "tags": []
          },
          "execution_count": 432
        }
      ]
    },
    {
      "cell_type": "code",
      "metadata": {
        "id": "DkSt9eShIqI_",
        "colab_type": "code",
        "colab": {}
      },
      "source": [
        "pred = model_rand.predict(X_test)"
      ],
      "execution_count": 0,
      "outputs": []
    },
    {
      "cell_type": "code",
      "metadata": {
        "id": "Y3IziCLh4c0d",
        "colab_type": "code",
        "colab": {}
      },
      "source": [
        "# delete\n",
        "\n",
        "import sklearn.metrics as metmod\n",
        "from sklearn.metrics import matthews_corrcoef\n",
        "from sklearn.metrics import classification_report, confusion_matrix\n",
        "\n",
        "\n",
        "def score_model(probs, threshold):\n",
        "    return np.array([1 if x > threshold else 0 for x in probs[:,1]])\n",
        "\n",
        "def key_metrics(labels, probs, threshold):\n",
        "    scores = score_model(probs, threshold)\n",
        "    metrics = metmod.precision_recall_fscore_support(labels, scores)\n",
        "    conf = metmod.confusion_matrix(labels, scores)\n",
        "    print('                 Confusion matrix')\n",
        "    print('                 Score positive    Score negative')\n",
        "    print('Actual positive    {}'.format(conf[0,0]) + '             {}'.format(conf[0,1]))\n",
        "    print('Actual negative     {}'.format(conf[1,0]) + '             {}'.format(conf[1,1]))\n",
        "    print('')\n",
        "    print('Accuracy        {}'.format(round(metmod.accuracy_score(labels, scores), 2)))\n",
        "    print('MCC        {}'.format(round(metmod.matthews_corrcoef(labels, scores), 2)))\n",
        "    print('AUC              {}'.format(round(metmod.roc_auc_score(labels, probs[:,1]), 2)))\n",
        "    print('Macro precision {}'.format(round(float((float(metrics[0][0]) + float(metrics[0][1]))/2.0), 2)))\n",
        "    print('Macro recall    {}'.format(round(float((float(metrics[1][0]) + float(metrics[1][1]))/2.0), 2)))\n",
        "    \n",
        "    print(' ')\n",
        "    print('           Positive      Negative')\n",
        "    print('Num case   {}'.format(round(metrics[3][0], 2)) + '        {}'.format(round(metrics[3][1], 2)))\n",
        "    print('Precision  {}'.format(round(metrics[0][0], 2)) + '         {}'.format(round(metrics[0][1], 2)))\n",
        "    print('Recall      {}'.format(round(metrics[1][0],2)) + '        {}'.format(round(metrics[1][1], 2)))\n",
        "    print('F1         {}'.format(round(metrics[2][0], 2)) + '         {}' .format(round(metrics[2][1],2)))\n",
        "    "
      ],
      "execution_count": 0,
      "outputs": []
    },
    {
      "cell_type": "code",
      "metadata": {
        "id": "DoIAHU9UIBzf",
        "colab_type": "code",
        "outputId": "be411594-f4f2-45a3-fa48-0ca966932453",
        "colab": {
          "base_uri": "https://localhost:8080/",
          "height": 289
        }
      },
      "source": [
        "probabilities = model_rand.predict_proba(xtest)\n",
        "key_metrics(ytest, probabilities, 0.5) "
      ],
      "execution_count": 436,
      "outputs": [
        {
          "output_type": "stream",
          "text": [
            "                 Confusion matrix\n",
            "                 Score positive    Score negative\n",
            "Actual positive    14317             10\n",
            "Actual negative     0             23\n",
            "\n",
            "Accuracy        1.0\n",
            "MCC        0.83\n",
            "AUC              1.0\n",
            "Macro precision 0.85\n",
            "Macro recall    1.0\n",
            " \n",
            "           Positive      Negative\n",
            "Num case   14327        23\n",
            "Precision  1.0         0.7\n",
            "Recall      1.0        1.0\n",
            "F1         1.0         0.82\n"
          ],
          "name": "stdout"
        }
      ]
    },
    {
      "cell_type": "code",
      "metadata": {
        "id": "xSxgC14jL7mX",
        "colab_type": "code",
        "colab": {}
      },
      "source": [
        "#from sklearn.linear_model import LogisticRegression\n",
        "#from sklearn.metrics import confusion_matrix"
      ],
      "execution_count": 0,
      "outputs": []
    },
    {
      "cell_type": "code",
      "metadata": {
        "id": "6utj88RYL7rS",
        "colab_type": "code",
        "outputId": "9106f136-75a0-460b-b708-ebb61d651a9f",
        "colab": {
          "base_uri": "https://localhost:8080/",
          "height": 136
        }
      },
      "source": [
        "#model = LogisticRegression()\n",
        "#model.fit(xtrain, ytrain.values.ravel())"
      ],
      "execution_count": 386,
      "outputs": [
        {
          "output_type": "stream",
          "text": [
            "/usr/local/lib/python3.6/dist-packages/sklearn/linear_model/logistic.py:432: FutureWarning: Default solver will be changed to 'lbfgs' in 0.22. Specify a solver to silence this warning.\n",
            "  FutureWarning)\n"
          ],
          "name": "stderr"
        },
        {
          "output_type": "execute_result",
          "data": {
            "text/plain": [
              "LogisticRegression(C=1.0, class_weight=None, dual=False, fit_intercept=True,\n",
              "                   intercept_scaling=1, l1_ratio=None, max_iter=100,\n",
              "                   multi_class='warn', n_jobs=None, penalty='l2',\n",
              "                   random_state=None, solver='warn', tol=0.0001, verbose=0,\n",
              "                   warm_start=False)"
            ]
          },
          "metadata": {
            "tags": []
          },
          "execution_count": 386
        }
      ]
    },
    {
      "cell_type": "code",
      "metadata": {
        "id": "EOnw1tM4M9YP",
        "colab_type": "code",
        "colab": {}
      },
      "source": [
        ""
      ],
      "execution_count": 0,
      "outputs": []
    },
    {
      "cell_type": "code",
      "metadata": {
        "id": "WR937ixDIFiQ",
        "colab_type": "code",
        "colab": {
          "base_uri": "https://localhost:8080/",
          "height": 374
        },
        "outputId": "610a99f2-e81e-4f9b-b42e-2f6c0cd2ead8"
      },
      "source": [
        "from google.colab import files\n",
        "import io\n",
        "\n",
        "pred_df  = pd.DataFrame({'TransactionId':TransactionId ,'FraudResult': pred})\n",
        "\n",
        "pred_df.to_csv('sub.csv', index=False) \n",
        "files.download('sub.csv')"
      ],
      "execution_count": 438,
      "outputs": [
        {
          "output_type": "error",
          "ename": "ValueError",
          "evalue": "ignored",
          "traceback": [
            "\u001b[0;31m---------------------------------------------------------------------------\u001b[0m",
            "\u001b[0;31mValueError\u001b[0m                                Traceback (most recent call last)",
            "\u001b[0;32m<ipython-input-438-68154cace503>\u001b[0m in \u001b[0;36m<module>\u001b[0;34m()\u001b[0m\n\u001b[1;32m      2\u001b[0m \u001b[0;32mimport\u001b[0m \u001b[0mio\u001b[0m\u001b[0;34m\u001b[0m\u001b[0;34m\u001b[0m\u001b[0m\n\u001b[1;32m      3\u001b[0m \u001b[0;34m\u001b[0m\u001b[0m\n\u001b[0;32m----> 4\u001b[0;31m \u001b[0mpred_df\u001b[0m  \u001b[0;34m=\u001b[0m \u001b[0mpd\u001b[0m\u001b[0;34m.\u001b[0m\u001b[0mDataFrame\u001b[0m\u001b[0;34m(\u001b[0m\u001b[0;34m{\u001b[0m\u001b[0;34m'TransactionId'\u001b[0m\u001b[0;34m:\u001b[0m\u001b[0mTransactionId\u001b[0m \u001b[0;34m,\u001b[0m\u001b[0;34m'FraudResult'\u001b[0m\u001b[0;34m:\u001b[0m \u001b[0mpred\u001b[0m\u001b[0;34m}\u001b[0m\u001b[0;34m)\u001b[0m\u001b[0;34m\u001b[0m\u001b[0;34m\u001b[0m\u001b[0m\n\u001b[0m\u001b[1;32m      5\u001b[0m \u001b[0;34m\u001b[0m\u001b[0m\n\u001b[1;32m      6\u001b[0m \u001b[0mpred_df\u001b[0m\u001b[0;34m.\u001b[0m\u001b[0mto_csv\u001b[0m\u001b[0;34m(\u001b[0m\u001b[0;34m'sub.csv'\u001b[0m\u001b[0;34m,\u001b[0m \u001b[0mindex\u001b[0m\u001b[0;34m=\u001b[0m\u001b[0;32mFalse\u001b[0m\u001b[0;34m)\u001b[0m\u001b[0;34m\u001b[0m\u001b[0;34m\u001b[0m\u001b[0m\n",
            "\u001b[0;32m/usr/local/lib/python3.6/dist-packages/pandas/core/frame.py\u001b[0m in \u001b[0;36m__init__\u001b[0;34m(self, data, index, columns, dtype, copy)\u001b[0m\n\u001b[1;32m    390\u001b[0m                                  dtype=dtype, copy=copy)\n\u001b[1;32m    391\u001b[0m         \u001b[0;32melif\u001b[0m \u001b[0misinstance\u001b[0m\u001b[0;34m(\u001b[0m\u001b[0mdata\u001b[0m\u001b[0;34m,\u001b[0m \u001b[0mdict\u001b[0m\u001b[0;34m)\u001b[0m\u001b[0;34m:\u001b[0m\u001b[0;34m\u001b[0m\u001b[0;34m\u001b[0m\u001b[0m\n\u001b[0;32m--> 392\u001b[0;31m             \u001b[0mmgr\u001b[0m \u001b[0;34m=\u001b[0m \u001b[0minit_dict\u001b[0m\u001b[0;34m(\u001b[0m\u001b[0mdata\u001b[0m\u001b[0;34m,\u001b[0m \u001b[0mindex\u001b[0m\u001b[0;34m,\u001b[0m \u001b[0mcolumns\u001b[0m\u001b[0;34m,\u001b[0m \u001b[0mdtype\u001b[0m\u001b[0;34m=\u001b[0m\u001b[0mdtype\u001b[0m\u001b[0;34m)\u001b[0m\u001b[0;34m\u001b[0m\u001b[0;34m\u001b[0m\u001b[0m\n\u001b[0m\u001b[1;32m    393\u001b[0m         \u001b[0;32melif\u001b[0m \u001b[0misinstance\u001b[0m\u001b[0;34m(\u001b[0m\u001b[0mdata\u001b[0m\u001b[0;34m,\u001b[0m \u001b[0mma\u001b[0m\u001b[0;34m.\u001b[0m\u001b[0mMaskedArray\u001b[0m\u001b[0;34m)\u001b[0m\u001b[0;34m:\u001b[0m\u001b[0;34m\u001b[0m\u001b[0;34m\u001b[0m\u001b[0m\n\u001b[1;32m    394\u001b[0m             \u001b[0;32mimport\u001b[0m \u001b[0mnumpy\u001b[0m\u001b[0;34m.\u001b[0m\u001b[0mma\u001b[0m\u001b[0;34m.\u001b[0m\u001b[0mmrecords\u001b[0m \u001b[0;32mas\u001b[0m \u001b[0mmrecords\u001b[0m\u001b[0;34m\u001b[0m\u001b[0;34m\u001b[0m\u001b[0m\n",
            "\u001b[0;32m/usr/local/lib/python3.6/dist-packages/pandas/core/internals/construction.py\u001b[0m in \u001b[0;36minit_dict\u001b[0;34m(data, index, columns, dtype)\u001b[0m\n\u001b[1;32m    210\u001b[0m         \u001b[0marrays\u001b[0m \u001b[0;34m=\u001b[0m \u001b[0;34m[\u001b[0m\u001b[0mdata\u001b[0m\u001b[0;34m[\u001b[0m\u001b[0mk\u001b[0m\u001b[0;34m]\u001b[0m \u001b[0;32mfor\u001b[0m \u001b[0mk\u001b[0m \u001b[0;32min\u001b[0m \u001b[0mkeys\u001b[0m\u001b[0;34m]\u001b[0m\u001b[0;34m\u001b[0m\u001b[0;34m\u001b[0m\u001b[0m\n\u001b[1;32m    211\u001b[0m \u001b[0;34m\u001b[0m\u001b[0m\n\u001b[0;32m--> 212\u001b[0;31m     \u001b[0;32mreturn\u001b[0m \u001b[0marrays_to_mgr\u001b[0m\u001b[0;34m(\u001b[0m\u001b[0marrays\u001b[0m\u001b[0;34m,\u001b[0m \u001b[0mdata_names\u001b[0m\u001b[0;34m,\u001b[0m \u001b[0mindex\u001b[0m\u001b[0;34m,\u001b[0m \u001b[0mcolumns\u001b[0m\u001b[0;34m,\u001b[0m \u001b[0mdtype\u001b[0m\u001b[0;34m=\u001b[0m\u001b[0mdtype\u001b[0m\u001b[0;34m)\u001b[0m\u001b[0;34m\u001b[0m\u001b[0;34m\u001b[0m\u001b[0m\n\u001b[0m\u001b[1;32m    213\u001b[0m \u001b[0;34m\u001b[0m\u001b[0m\n\u001b[1;32m    214\u001b[0m \u001b[0;34m\u001b[0m\u001b[0m\n",
            "\u001b[0;32m/usr/local/lib/python3.6/dist-packages/pandas/core/internals/construction.py\u001b[0m in \u001b[0;36marrays_to_mgr\u001b[0;34m(arrays, arr_names, index, columns, dtype)\u001b[0m\n\u001b[1;32m     49\u001b[0m     \u001b[0;31m# figure out the index, if necessary\u001b[0m\u001b[0;34m\u001b[0m\u001b[0;34m\u001b[0m\u001b[0;34m\u001b[0m\u001b[0m\n\u001b[1;32m     50\u001b[0m     \u001b[0;32mif\u001b[0m \u001b[0mindex\u001b[0m \u001b[0;32mis\u001b[0m \u001b[0;32mNone\u001b[0m\u001b[0;34m:\u001b[0m\u001b[0;34m\u001b[0m\u001b[0;34m\u001b[0m\u001b[0m\n\u001b[0;32m---> 51\u001b[0;31m         \u001b[0mindex\u001b[0m \u001b[0;34m=\u001b[0m \u001b[0mextract_index\u001b[0m\u001b[0;34m(\u001b[0m\u001b[0marrays\u001b[0m\u001b[0;34m)\u001b[0m\u001b[0;34m\u001b[0m\u001b[0;34m\u001b[0m\u001b[0m\n\u001b[0m\u001b[1;32m     52\u001b[0m     \u001b[0;32melse\u001b[0m\u001b[0;34m:\u001b[0m\u001b[0;34m\u001b[0m\u001b[0;34m\u001b[0m\u001b[0m\n\u001b[1;32m     53\u001b[0m         \u001b[0mindex\u001b[0m \u001b[0;34m=\u001b[0m \u001b[0mensure_index\u001b[0m\u001b[0;34m(\u001b[0m\u001b[0mindex\u001b[0m\u001b[0;34m)\u001b[0m\u001b[0;34m\u001b[0m\u001b[0;34m\u001b[0m\u001b[0m\n",
            "\u001b[0;32m/usr/local/lib/python3.6/dist-packages/pandas/core/internals/construction.py\u001b[0m in \u001b[0;36mextract_index\u001b[0;34m(data)\u001b[0m\n\u001b[1;32m    326\u001b[0m                            \u001b[0;34m'length {idx_len}'\u001b[0m\u001b[0;34m\u001b[0m\u001b[0;34m\u001b[0m\u001b[0m\n\u001b[1;32m    327\u001b[0m                            .format(length=lengths[0], idx_len=len(index)))\n\u001b[0;32m--> 328\u001b[0;31m                     \u001b[0;32mraise\u001b[0m \u001b[0mValueError\u001b[0m\u001b[0;34m(\u001b[0m\u001b[0mmsg\u001b[0m\u001b[0;34m)\u001b[0m\u001b[0;34m\u001b[0m\u001b[0;34m\u001b[0m\u001b[0m\n\u001b[0m\u001b[1;32m    329\u001b[0m             \u001b[0;32melse\u001b[0m\u001b[0;34m:\u001b[0m\u001b[0;34m\u001b[0m\u001b[0;34m\u001b[0m\u001b[0m\n\u001b[1;32m    330\u001b[0m                 \u001b[0mindex\u001b[0m \u001b[0;34m=\u001b[0m \u001b[0mibase\u001b[0m\u001b[0;34m.\u001b[0m\u001b[0mdefault_index\u001b[0m\u001b[0;34m(\u001b[0m\u001b[0mlengths\u001b[0m\u001b[0;34m[\u001b[0m\u001b[0;36m0\u001b[0m\u001b[0;34m]\u001b[0m\u001b[0;34m)\u001b[0m\u001b[0;34m\u001b[0m\u001b[0;34m\u001b[0m\u001b[0m\n",
            "\u001b[0;31mValueError\u001b[0m: array length 23916 does not match index length 45019"
          ]
        }
      ]
    },
    {
      "cell_type": "code",
      "metadata": {
        "id": "FoY9jZdlIZRf",
        "colab_type": "code",
        "colab": {}
      },
      "source": [
        ""
      ],
      "execution_count": 0,
      "outputs": []
    }
  ]
}